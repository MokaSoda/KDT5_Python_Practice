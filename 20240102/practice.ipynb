{
 "cells": [
  {
   "cell_type": "code",
   "execution_count": 2,
   "metadata": {},
   "outputs": [
    {
     "name": "stdout",
     "output_type": "stream",
     "text": [
      "[11, 13, 15, 17, 19]\n"
     ]
    }
   ],
   "source": [
    "s = slice(1,10,2)\n",
    "test = [x for x in range(10,20,1)]\n",
    "\n",
    "print(test[s])\n"
   ]
  },
  {
   "cell_type": "code",
   "execution_count": 5,
   "metadata": {},
   "outputs": [
    {
     "name": "stdout",
     "output_type": "stream",
     "text": [
      "{'3': '100', '6': '97', '9': '94', '12': '91', '15': '88', '18': '85', '21': '82', '24': '79', '27': '76', '30': '73', '33': '70', '36': '67', '39': '64', '42': '61', '45': '58', '48': '55', '51': '52', '54': '49', '57': '46', '60': '43', '63': '40', '66': '37', '69': '34', '72': '31', '75': '28', '78': '25', '81': '22', '84': '19', '87': '16', '90': '13', '93': '10', '96': '7', '99': '4'}\n"
     ]
    }
   ],
   "source": [
    "from collections import OrderedDict\n",
    "\n",
    "a = [str(x) for x in range(3,100,3)]\n",
    "b = [str(x) for x in range(100,3,-3)]\n",
    "\n",
    "dict_ab = dict(zip(a,b))\n",
    "print(dict_ab)\n",
    "\n",
    "dict_ordered = OrderedDict(dict_ab)\n"
   ]
  }
 ],
 "metadata": {
  "kernelspec": {
   "display_name": "py3_9",
   "language": "python",
   "name": "python3"
  },
  "language_info": {
   "codemirror_mode": {
    "name": "ipython",
    "version": 3
   },
   "file_extension": ".py",
   "mimetype": "text/x-python",
   "name": "python",
   "nbconvert_exporter": "python",
   "pygments_lexer": "ipython3",
   "version": "3.9.18"
  }
 },
 "nbformat": 4,
 "nbformat_minor": 2
}
