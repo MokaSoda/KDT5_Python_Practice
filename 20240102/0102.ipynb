{
 "cells": [
  {
   "cell_type": "markdown",
   "metadata": {},
   "source": [
    "<h3>자료형_2</h3>\n",
    "\n",
    "자료를 여러개 저장할 수 있는 공간\n",
    "<br>list, tuple, dict, set\n",
    "<br>변수명 1개로 많은 데이터 관리\n"
   ]
  },
  {
   "cell_type": "code",
   "execution_count": 13,
   "metadata": {},
   "outputs": [
    {
     "name": "stdout",
     "output_type": "stream",
     "text": [
      "삭제전 리스트 요소 : [7, 14, 21, 28, 35, 42, 49]\n",
      "삭제후 리스트 요소 : [21, 28, 35, 42, 49]\n",
      "[21, 28, 35, 42, 56]\n",
      "[21, 28, 35, 42, 56, 70]\n"
     ]
    }
   ],
   "source": [
    "\"\"\"\n",
    "list = 여러개의 데이터를 저장하는 데이터 타입\n",
    "문법 => [데이터1, 데이터2, ......]\n",
    "원소/요소 => 식별하기 위해서 인덱스 사용 (index) : 파이썬에 명명\n",
    "인덱싱 기능과 슬라이싱 기능 모두 사용이 가능함\n",
    "\n",
    "1 ~ 50 범위의 7의 배수에 해당하는 정수로 구성된 리스트를 생성\n",
    "\"\"\"\n",
    "l_7의배수리스트 = list(range(7,51,7))\n",
    "print(\"삭제전 리스트 요소 :\",l_7의배수리스트)\n",
    "\n",
    "# str 데이터 타입 => 인덱싱 -----> 요소 변환 X\n",
    "# but list의 경우 변경 가능\n",
    "# 이는 리스트의 경우 각 원소의 주소를 저장하는 자료형이기 때문\n",
    "# 제일 첫번쨰 인덱스에 있는 원소를 삭제 ======> del\n",
    "\n",
    "del(l_7의배수리스트[0])\n",
    "del(l_7의배수리스트[0])\n",
    "print('삭제후 리스트 요소 :',l_7의배수리스트)\n",
    "\n",
    "# del x\n",
    "# print(\"완전히 리스트가 삭제됨\")\n",
    "# 요소의 개수 5개 : 0 ~ 4\n",
    "# l_7의배수리스트[5] = 56\n",
    "# 이 경우 해당되는 인덱스가 없기 떄문에 IndexError\n",
    "l_7의배수리스트[4] = 56\n",
    "print(l_7의배수리스트)\n"
   ]
  },
  {
   "cell_type": "code",
   "execution_count": null,
   "metadata": {},
   "outputs": [],
   "source": [
    "\n",
    "# 요소의 변경 삭제는 대입 연산자, del로 가능\n",
    "# but 이를 해결하기 위해서는 메서드로 해결 (append)\n",
    "# 특정 데이터 타입의 전용 함수를 매서드라고 함\n",
    "# 범용의 함수와 식별하기 위해서 지정한 호칭\n",
    "# 사용법 : 데이터.메서드명 또는 변수명.메서드명\n",
    "\n",
    "\n",
    "l_7의배수리스트.append(70)\n",
    "print(l_7의배수리스트)\n",
    "\n"
   ]
  }
 ],
 "metadata": {
  "kernelspec": {
   "display_name": "py3_9",
   "language": "python",
   "name": "python3"
  },
  "language_info": {
   "codemirror_mode": {
    "name": "ipython",
    "version": 3
   },
   "file_extension": ".py",
   "mimetype": "text/x-python",
   "name": "python",
   "nbconvert_exporter": "python",
   "pygments_lexer": "ipython3",
   "version": "3.9.18"
  }
 },
 "nbformat": 4,
 "nbformat_minor": 2
}
