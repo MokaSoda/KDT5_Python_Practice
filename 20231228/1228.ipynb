{
 "cells": [
  {
   "cell_type": "markdown",
   "metadata": {},
   "source": [
    "<h1> 타입케스팅"
   ]
  },
  {
   "cell_type": "code",
   "execution_count": 9,
   "metadata": {},
   "outputs": [
    {
     "name": "stdout",
     "output_type": "stream",
     "text": [
      "<class 'int'>\n",
      "십진수에 해당되지 않는 문자가 있습니다.\n"
     ]
    }
   ],
   "source": [
    "# 타입케스팅 연습\n",
    "# 한 형태의 자료형을 다른 형태의 자료형으로 변환하는 것\n",
    "# - 함수\n",
    "    # int() >> 정수로 형변환\n",
    "    # float() >> 실수로 형변환\n",
    "    # str() >> 문자로 형변환\n",
    "    # bool() >> 논리 형변환\n",
    "\n",
    "# int 타입으로 형변환\n",
    "# int(데이터)\n",
    "# 일시적으로 쓸 경우에는 변수에 저장 대신 바로 실행\n",
    "\n",
    "print(type(int('200')))\n",
    "try:\n",
    "    print(type(int('200ㅇㅇ')))\n",
    "except ValueError:\n",
    "    print(\"십진수에 해당되지 않는 문자가 있습니다.\")\n",
    "\n"
   ]
  },
  {
   "cell_type": "code",
   "execution_count": 14,
   "metadata": {},
   "outputs": [
    {
     "name": "stdout",
     "output_type": "stream",
     "text": [
      "200\n"
     ]
    }
   ],
   "source": [
    "# float  >>> int\n",
    "\n",
    "# 소수점 이하는 버려버림\n",
    "# 강제 형변환시 소수 아래 데이터가 소실됨\n",
    "\n",
    "# float >> int  : 소수점 이하 데이터 손실 발생\n",
    "\n",
    "print((int(200.9)))\n",
    "\n"
   ]
  },
  {
   "cell_type": "code",
   "execution_count": 23,
   "metadata": {},
   "outputs": [
    {
     "name": "stdout",
     "output_type": "stream",
     "text": [
      "1 <class 'bool'>\n",
      "부울형이 아님\n",
      "<class 'str'>\n"
     ]
    }
   ],
   "source": [
    "# bool ==> int\n",
    "# => 0, 1  => False, True\n",
    "print(int(True), type(True))\n",
    "x = 'True'\n",
    "\n",
    "try:\n",
    "    print(int(x), type(x))\n",
    "except ValueError:\n",
    "    print(\"부울형이 아님\")\n",
    "    print(type(x))\n",
    "\n"
   ]
  },
  {
   "cell_type": "code",
   "execution_count": 27,
   "metadata": {},
   "outputs": [
    {
     "name": "stdout",
     "output_type": "stream",
     "text": [
      "<class 'float'> 3.5\n",
      "<class 'float'> 35.0\n"
     ]
    }
   ],
   "source": [
    "# float 데이터 형태로 형 변환하기\n",
    "# str >> float\n",
    "\n",
    "print(type(float('3.5')), float('3.5'))\n",
    "print(type(float('35')), float('35'))\n",
    "# 정수를 float으로 변환시 소수점이 추가됨\n",
    "\n",
    "# print(type(float('0x123')))\n",
    "# 16진수를 바꿀 수 없음 별도의 방법이 필요\n",
    "\n"
   ]
  },
  {
   "cell_type": "code",
   "execution_count": 33,
   "metadata": {},
   "outputs": [
    {
     "name": "stdout",
     "output_type": "stream",
     "text": [
      "<class 'float'> 35.0\n",
      "<class 'float'> -9.0\n"
     ]
    }
   ],
   "source": [
    "# int >> float\n",
    "\n",
    "print(type(float('35')), float(35))\n",
    "print(type(float(-9)), float(-9))\n"
   ]
  },
  {
   "cell_type": "code",
   "execution_count": 37,
   "metadata": {},
   "outputs": [
    {
     "name": "stdout",
     "output_type": "stream",
     "text": [
      "<class 'float'> 1.0\n",
      "<class 'float'> 0.0\n"
     ]
    }
   ],
   "source": [
    "# bool >>> float\n",
    "\n",
    "print(type(float(True)), float(True))\n",
    "print(type(float(False)), float(False))\n"
   ]
  },
  {
   "cell_type": "markdown",
   "metadata": {},
   "source": [
    "<h1> 논리연산자"
   ]
  },
  {
   "cell_type": "code",
   "execution_count": 50,
   "metadata": {},
   "outputs": [],
   "source": [
    "# 논리 연산자에는 and or not 이 있음\n",
    "# 결과는 True or False\n",
    "# 동작방식\n",
    "\n",
    "# and 예시) A and B : A,B 모두 True 일때만 True\n",
    "# or  예시) A or  B : A,B 중 하나 이상만 True 일 경우 True\n",
    "# not 예시) not A : A의 상태를 반대로 (토글링)\n"
   ]
  },
  {
   "cell_type": "code",
   "execution_count": 63,
   "metadata": {},
   "outputs": [
    {
     "name": "stdout",
     "output_type": "stream",
     "text": [
      "True False\n",
      "False\n",
      "True\n",
      "True\n",
      "True\n",
      "False\n"
     ]
    }
   ],
   "source": [
    "# or 연산자\n",
    "# 1개 이상만 True가 되면 True 로 결정됨\n",
    "\n",
    "num1 = 10\n",
    "num2 = 3\n",
    "\n",
    "# and 연산자\n",
    "# num1 은 num2 보다 크고 100보다 큰 수\n",
    "\n",
    "print(num1 > num2, num1 > 100)\n",
    "print(num1 > num2 and num1 > 100)\n",
    "print(num1 > num2 or num1 > 100)\n",
    "print(num1 > num2 or num1 > 100 or num1 > 0)\n"
   ]
  },
  {
   "cell_type": "code",
   "execution_count": 79,
   "metadata": {},
   "outputs": [
    {
     "name": "stdout",
     "output_type": "stream",
     "text": [
      "True\n",
      "False\n",
      "True\n",
      "True\n",
      "False 왼쪽은 True == 0.0 의 결과\n"
     ]
    }
   ],
   "source": [
    "# not 연산자\n",
    "# 현재 값을 반대로 즉, True >> False or False >> True\n",
    "# cf) 파이선에서는 0은 False, 0 이외의 값은 True 임 심지어 음수일 경우에도 True\n",
    "# 단 0.0 은 형변환시 경우 0 결국 False\n",
    "\n",
    "\n",
    "print(not False)\n",
    "print(not True)\n",
    "\n",
    "print(bool(-1))\n",
    "print(not 0)\n",
    "print(True == 0.0,\"왼쪽은 True == 0.0 의 결과\")\n"
   ]
  },
  {
   "cell_type": "code",
   "execution_count": 85,
   "metadata": {},
   "outputs": [
    {
     "name": "stdout",
     "output_type": "stream",
     "text": [
      "True\n",
      "True\n",
      "False\n",
      "10 is 10.0  = False\n"
     ]
    },
    {
     "name": "stderr",
     "output_type": "stream",
     "text": [
      "<>:10: SyntaxWarning: \"is not\" with a literal. Did you mean \"!=\"?\n",
      "<>:11: SyntaxWarning: \"is\" with a literal. Did you mean \"==\"?\n",
      "<>:13: SyntaxWarning: \"is\" with a literal. Did you mean \"==\"?\n",
      "<>:10: SyntaxWarning: \"is not\" with a literal. Did you mean \"!=\"?\n",
      "<>:11: SyntaxWarning: \"is\" with a literal. Did you mean \"==\"?\n",
      "<>:13: SyntaxWarning: \"is\" with a literal. Did you mean \"==\"?\n",
      "C:\\Users\\Administrator\\AppData\\Local\\Temp\\ipykernel_3400\\965498257.py:10: SyntaxWarning: \"is not\" with a literal. Did you mean \"!=\"?\n",
      "  print(0. is not int())\n",
      "C:\\Users\\Administrator\\AppData\\Local\\Temp\\ipykernel_3400\\965498257.py:11: SyntaxWarning: \"is\" with a literal. Did you mean \"==\"?\n",
      "  print(\"False\" is bool())\n",
      "C:\\Users\\Administrator\\AppData\\Local\\Temp\\ipykernel_3400\\965498257.py:13: SyntaxWarning: \"is\" with a literal. Did you mean \"==\"?\n",
      "  print(f\"10 is 10.0  = {10 is 10.0}\")\n"
     ]
    }
   ],
   "source": [
    "'''\n",
    "객체 비교 연산자 >> is, is not\n",
    "결과 True, False\n",
    "동작 방식\n",
    "    is => A is B : A와 B가 동일한 데이터 타입인가요?\n",
    "    is not => A is not B : A, B가 서로 다른 데이터 타입인가요?\n",
    "'''\n",
    "\n",
    "print(False is bool())\n",
    "print(0. is not int())\n",
    "print(\"False\" is bool())\n",
    "\n",
    "print(f\"10 is 10.0 = {10 is 10.0}\")\n"
   ]
  }
 ],
 "metadata": {
  "kernelspec": {
   "display_name": "py3_9",
   "language": "python",
   "name": "python3"
  },
  "language_info": {
   "codemirror_mode": {
    "name": "ipython",
    "version": 3
   },
   "file_extension": ".py",
   "mimetype": "text/x-python",
   "name": "python",
   "nbconvert_exporter": "python",
   "pygments_lexer": "ipython3",
   "version": "3.9.18"
  }
 },
 "nbformat": 4,
 "nbformat_minor": 2
}
