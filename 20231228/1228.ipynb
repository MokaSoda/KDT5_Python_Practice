{
 "cells": [
  {
   "cell_type": "code",
   "execution_count": 9,
   "metadata": {},
   "outputs": [
    {
     "name": "stdout",
     "output_type": "stream",
     "text": [
      "<class 'int'>\n",
      "십진수에 해당되지 않는 문자가 있습니다.\n"
     ]
    }
   ],
   "source": [
    "# 타입케스팅 연습\n",
    "# 한 형태의 자료형을 다른 형태의 자료형으로 변환하는 것\n",
    "# - 함수\n",
    "    # int() >> 정수로 형변환\n",
    "    # float() >> 실수로 형변환\n",
    "    # str() >> 문자로 형변환\n",
    "    # bool() >> 논리 형변환\n",
    "\n",
    "# int 타입으로 형변환\n",
    "# int(데이터)\n",
    "# 일시적으로 쓸 경우에는 변수에 저장 대신 바로 실행\n",
    "\n",
    "print(type(int('200')))\n",
    "try:\n",
    "    print(type(int('200ㅇㅇ')))\n",
    "except ValueError:\n",
    "    print(\"십진수에 해당되지 않는 문자가 있습니다.\")\n",
    "\n"
   ]
  },
  {
   "cell_type": "code",
   "execution_count": 14,
   "metadata": {},
   "outputs": [
    {
     "name": "stdout",
     "output_type": "stream",
     "text": [
      "200\n"
     ]
    }
   ],
   "source": [
    "# float  >>> int\n",
    "\n",
    "# 소수점 이하는 버려버림\n",
    "# 강제 형변환시 소수 아래 데이터가 소실됨\n",
    "\n",
    "# float >> int  : 소수점 이하 데이터 손실 발생\n",
    "\n",
    "print((int(200.9)))\n",
    "\n"
   ]
  },
  {
   "cell_type": "code",
   "execution_count": 23,
   "metadata": {},
   "outputs": [
    {
     "name": "stdout",
     "output_type": "stream",
     "text": [
      "1 <class 'bool'>\n",
      "부울형이 아님\n",
      "<class 'str'>\n"
     ]
    }
   ],
   "source": [
    "# bool ==> int\n",
    "# => 0, 1  => False, True\n",
    "print(int(True), type(True))\n",
    "x = 'True'\n",
    "\n",
    "try:\n",
    "    print(int(x), type(x))\n",
    "except ValueError:\n",
    "    print(\"부울형이 아님\")\n",
    "    print(type(x))\n",
    "\n"
   ]
  },
  {
   "cell_type": "code",
   "execution_count": 27,
   "metadata": {},
   "outputs": [
    {
     "name": "stdout",
     "output_type": "stream",
     "text": [
      "<class 'float'> 3.5\n",
      "<class 'float'> 35.0\n"
     ]
    }
   ],
   "source": [
    "# float 데이터 형태로 형 변환하기\n",
    "# str >> float\n",
    "\n",
    "print(type(float('3.5')), float('3.5'))\n",
    "print(type(float('35')), float('35'))\n",
    "# 정수를 float으로 변환시 소수점이 추가됨\n",
    "\n",
    "# print(type(float('0x123')))\n",
    "# 16진수를 바꿀 수 없음 별도의 방법이 필요\n",
    "\n"
   ]
  },
  {
   "cell_type": "code",
   "execution_count": 33,
   "metadata": {},
   "outputs": [
    {
     "name": "stdout",
     "output_type": "stream",
     "text": [
      "<class 'float'> 35.0\n",
      "<class 'float'> -9.0\n"
     ]
    }
   ],
   "source": [
    "# int >> float\n",
    "\n",
    "print(type(float('35')), float(35))\n",
    "print(type(float(-9)), float(-9))\n"
   ]
  },
  {
   "cell_type": "code",
   "execution_count": 36,
   "metadata": {},
   "outputs": [
    {
     "name": "stdout",
     "output_type": "stream",
     "text": [
      "<class 'float'> 1.0\n",
      "<class 'float'> 0.0\n"
     ]
    }
   ],
   "source": [
    "# bool >>> float\n",
    "\n",
    "print(type(float(True)), float(True))\n",
    "print(type(float(False)), float(False))\n"
   ]
  }
 ],
 "metadata": {
  "kernelspec": {
   "display_name": "py3_9",
   "language": "python",
   "name": "python3"
  },
  "language_info": {
   "codemirror_mode": {
    "name": "ipython",
    "version": 3
   },
   "file_extension": ".py",
   "mimetype": "text/x-python",
   "name": "python",
   "nbconvert_exporter": "python",
   "pygments_lexer": "ipython3",
   "version": "3.9.18"
  }
 },
 "nbformat": 4,
 "nbformat_minor": 2
}
