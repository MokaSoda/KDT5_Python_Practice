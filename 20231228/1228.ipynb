{
 "cells": [
  {
   "cell_type": "markdown",
   "metadata": {},
   "source": [
    "<h1> 타입케스팅"
   ]
  },
  {
   "cell_type": "code",
   "execution_count": 9,
   "metadata": {},
   "outputs": [
    {
     "name": "stdout",
     "output_type": "stream",
     "text": [
      "<class 'int'>\n",
      "십진수에 해당되지 않는 문자가 있습니다.\n"
     ]
    }
   ],
   "source": [
    "# 타입케스팅 연습\n",
    "# 한 형태의 자료형을 다른 형태의 자료형으로 변환하는 것\n",
    "# - 함수\n",
    "    # int() >> 정수로 형변환\n",
    "    # float() >> 실수로 형변환\n",
    "    # str() >> 문자로 형변환\n",
    "    # bool() >> 논리 형변환\n",
    "\n",
    "# int 타입으로 형변환\n",
    "# int(데이터)\n",
    "# 일시적으로 쓸 경우에는 변수에 저장 대신 바로 실행\n",
    "\n",
    "print(type(int('200')))\n",
    "try:\n",
    "    print(type(int('200ㅇㅇ')))\n",
    "except ValueError:\n",
    "    print(\"십진수에 해당되지 않는 문자가 있습니다.\")\n",
    "\n"
   ]
  },
  {
   "cell_type": "code",
   "execution_count": 14,
   "metadata": {},
   "outputs": [
    {
     "name": "stdout",
     "output_type": "stream",
     "text": [
      "200\n"
     ]
    }
   ],
   "source": [
    "# float  >>> int\n",
    "\n",
    "# 소수점 이하는 버려버림\n",
    "# 강제 형변환시 소수 아래 데이터가 소실됨\n",
    "\n",
    "# float >> int  : 소수점 이하 데이터 손실 발생\n",
    "\n",
    "print((int(200.9)))\n",
    "\n"
   ]
  },
  {
   "cell_type": "code",
   "execution_count": 23,
   "metadata": {},
   "outputs": [
    {
     "name": "stdout",
     "output_type": "stream",
     "text": [
      "1 <class 'bool'>\n",
      "부울형이 아님\n",
      "<class 'str'>\n"
     ]
    }
   ],
   "source": [
    "# bool ==> int\n",
    "# => 0, 1  => False, True\n",
    "print(int(True), type(True))\n",
    "x = 'True'\n",
    "\n",
    "try:\n",
    "    print(int(x), type(x))\n",
    "except ValueError:\n",
    "    print(\"부울형이 아님\")\n",
    "    print(type(x))\n",
    "\n"
   ]
  },
  {
   "cell_type": "code",
   "execution_count": 27,
   "metadata": {},
   "outputs": [
    {
     "name": "stdout",
     "output_type": "stream",
     "text": [
      "<class 'float'> 3.5\n",
      "<class 'float'> 35.0\n"
     ]
    }
   ],
   "source": [
    "# float 데이터 형태로 형 변환하기\n",
    "# str >> float\n",
    "\n",
    "print(type(float('3.5')), float('3.5'))\n",
    "print(type(float('35')), float('35'))\n",
    "# 정수를 float으로 변환시 소수점이 추가됨\n",
    "\n",
    "# print(type(float('0x123')))\n",
    "# 16진수를 바꿀 수 없음 별도의 방법이 필요\n",
    "\n"
   ]
  },
  {
   "cell_type": "code",
   "execution_count": 33,
   "metadata": {},
   "outputs": [
    {
     "name": "stdout",
     "output_type": "stream",
     "text": [
      "<class 'float'> 35.0\n",
      "<class 'float'> -9.0\n"
     ]
    }
   ],
   "source": [
    "# int >> float\n",
    "\n",
    "print(type(float('35')), float(35))\n",
    "print(type(float(-9)), float(-9))\n"
   ]
  },
  {
   "cell_type": "code",
   "execution_count": 37,
   "metadata": {},
   "outputs": [
    {
     "name": "stdout",
     "output_type": "stream",
     "text": [
      "<class 'float'> 1.0\n",
      "<class 'float'> 0.0\n"
     ]
    }
   ],
   "source": [
    "# bool >>> float\n",
    "\n",
    "print(type(float(True)), float(True))\n",
    "print(type(float(False)), float(False))\n"
   ]
  },
  {
   "cell_type": "markdown",
   "metadata": {},
   "source": [
    "<h1> 논리연산자"
   ]
  },
  {
   "cell_type": "code",
   "execution_count": 50,
   "metadata": {},
   "outputs": [],
   "source": [
    "# 논리 연산자에는 and or not 이 있음\n",
    "# 결과는 True or False\n",
    "# 동작방식\n",
    "\n",
    "# and 예시) A and B : A,B 모두 True 일때만 True\n",
    "# or  예시) A or  B : A,B 중 하나 이상만 True 일 경우 True\n",
    "# not 예시) not A : A의 상태를 반대로 (토글링)\n"
   ]
  },
  {
   "cell_type": "code",
   "execution_count": 63,
   "metadata": {},
   "outputs": [
    {
     "name": "stdout",
     "output_type": "stream",
     "text": [
      "True False\n",
      "False\n",
      "True\n",
      "True\n",
      "True\n",
      "False\n"
     ]
    }
   ],
   "source": [
    "# or 연산자\n",
    "# 1개 이상만 True가 되면 True 로 결정됨\n",
    "\n",
    "num1 = 10\n",
    "num2 = 3\n",
    "\n",
    "# and 연산자\n",
    "# num1 은 num2 보다 크고 100보다 큰 수\n",
    "\n",
    "print(num1 > num2, num1 > 100)\n",
    "print(num1 > num2 and num1 > 100)\n",
    "print(num1 > num2 or num1 > 100)\n",
    "print(num1 > num2 or num1 > 100 or num1 > 0)\n"
   ]
  },
  {
   "cell_type": "code",
   "execution_count": 79,
   "metadata": {},
   "outputs": [
    {
     "name": "stdout",
     "output_type": "stream",
     "text": [
      "True\n",
      "False\n",
      "True\n",
      "True\n",
      "False 왼쪽은 True == 0.0 의 결과\n"
     ]
    }
   ],
   "source": [
    "# not 연산자\n",
    "# 현재 값을 반대로 즉, True >> False or False >> True\n",
    "# cf) 파이선에서는 0은 False, 0 이외의 값은 True 임 심지어 음수일 경우에도 True\n",
    "# 단 0.0 은 형변환시 경우 0 결국 False\n",
    "\n",
    "\n",
    "print(not False)\n",
    "print(not True)\n",
    "\n",
    "print(bool(-1))\n",
    "print(not 0)\n",
    "print(True == 0.0,\"왼쪽은 True == 0.0 의 결과\")\n"
   ]
  },
  {
   "cell_type": "code",
   "execution_count": 87,
   "metadata": {},
   "outputs": [
    {
     "name": "stdout",
     "output_type": "stream",
     "text": [
      "True\n",
      "True\n",
      "False\n",
      "10 is 10.0 = False\n",
      "비교 10 is 10.0 = False 와 10 == 10.0 True\n"
     ]
    },
    {
     "name": "stderr",
     "output_type": "stream",
     "text": [
      "<>:10: SyntaxWarning: \"is not\" with a literal. Did you mean \"!=\"?\n",
      "<>:11: SyntaxWarning: \"is\" with a literal. Did you mean \"==\"?\n",
      "<>:13: SyntaxWarning: \"is\" with a literal. Did you mean \"==\"?\n",
      "<>:15: SyntaxWarning: \"is\" with a literal. Did you mean \"==\"?\n",
      "<>:10: SyntaxWarning: \"is not\" with a literal. Did you mean \"!=\"?\n",
      "<>:11: SyntaxWarning: \"is\" with a literal. Did you mean \"==\"?\n",
      "<>:13: SyntaxWarning: \"is\" with a literal. Did you mean \"==\"?\n",
      "<>:15: SyntaxWarning: \"is\" with a literal. Did you mean \"==\"?\n",
      "C:\\Users\\Administrator\\AppData\\Local\\Temp\\ipykernel_3400\\3197774610.py:10: SyntaxWarning: \"is not\" with a literal. Did you mean \"!=\"?\n",
      "  print(0. is not int())\n",
      "C:\\Users\\Administrator\\AppData\\Local\\Temp\\ipykernel_3400\\3197774610.py:11: SyntaxWarning: \"is\" with a literal. Did you mean \"==\"?\n",
      "  print(\"False\" is bool())\n",
      "C:\\Users\\Administrator\\AppData\\Local\\Temp\\ipykernel_3400\\3197774610.py:13: SyntaxWarning: \"is\" with a literal. Did you mean \"==\"?\n",
      "  print(f\"10 is 10.0 = {10 is 10.0}\")\n",
      "C:\\Users\\Administrator\\AppData\\Local\\Temp\\ipykernel_3400\\3197774610.py:15: SyntaxWarning: \"is\" with a literal. Did you mean \"==\"?\n",
      "  print(f\"비교 10 is 10.0 = {10 is 10.0} 와 10 == 10.0 {10 == 10.0}\")\n"
     ]
    }
   ],
   "source": [
    "'''\n",
    "객체 비교 연산자 >> is, is not\n",
    "결과 True, False\n",
    "동작 방식\n",
    "    is => A is B : A와 B가 동일한 데이터 타입인가요?\n",
    "    is not => A is not B : A, B가 서로 다른 데이터 타입인가요?\n",
    "'''\n",
    "\n",
    "print(False is bool())\n",
    "print(0. is not int())\n",
    "print(\"False\" is bool())\n",
    "\n",
    "print(f\"10 is 10.0 = {10 is 10.0}\")\n",
    "\n",
    "print(f\"비교 10 is 10.0 = {10 is 10.0} 와 10 == 10.0 {10 == 10.0}\")\n"
   ]
  },
  {
   "cell_type": "code",
   "execution_count": 107,
   "metadata": {},
   "outputs": [
    {
     "name": "stdout",
     "output_type": "stream",
     "text": [
      "10 +  20 = 30\n",
      "10 -  20 = -10\n",
      "10 *  20 = 200\n",
      "10 /  20 = 0.5\n",
      "10 // 20 = 0\n",
      "10 %  20 = 10\n",
      "10 ** 20 = 100000000000000000000\n"
     ]
    }
   ],
   "source": [
    "# 실습1 산술 연산\n",
    "\n",
    "a = int(input(\"첫번째 숫자\"))\n",
    "b = int(input(\"두번째 숫자\"))\n",
    "\n",
    "print(f\"{a} +  {b} = {a + b}\")\n",
    "print(f\"{a} -  {b} = {a - b}\")\n",
    "print(f\"{a} *  {b} = {a * b}\")\n",
    "print(f\"{a} /  {b} = {a / b}\")\n",
    "print(f\"{a} // {b} = {a //b}\")\n",
    "print(f\"{a} %  {b} = {a % b}\")\n",
    "print(f\"{a} ** {b} = {a **b}\")\n",
    "\n"
   ]
  },
  {
   "cell_type": "code",
   "execution_count": 108,
   "metadata": {},
   "outputs": [
    {
     "name": "stdout",
     "output_type": "stream",
     "text": [
      "10 >  20 \t=> False\n",
      "10 <  20 \t=> True\n",
      "10 >= 20 \t=> False\n",
      "10 <= 20 \t=> True\n",
      "10 == 20 \t=> False\n",
      "10 != 20 \t=> True\n"
     ]
    }
   ],
   "source": [
    "# 실습2 비교 연산\n",
    "\n",
    "print(f\"{a} >  {b} \\t=> {a>b}\")\n",
    "print(f\"{a} <  {b} \\t=> {a<b}\")\n",
    "print(f\"{a} >= {b} \\t=> {a>=b}\")\n",
    "print(f\"{a} <= {b} \\t=> {a<=b}\")\n",
    "print(f\"{a} == {b} \\t=> {a==b}\")\n",
    "print(f\"{a} != {b} \\t=> {a!=b}\")\n"
   ]
  },
  {
   "cell_type": "code",
   "execution_count": 115,
   "metadata": {},
   "outputs": [
    {
     "name": "stdout",
     "output_type": "stream",
     "text": [
      "10 > 20 and 10 > 100  =>  False\n",
      "10 > 20 or 10 > 1  =>  True\n",
      "not 10             =>  False\n"
     ]
    }
   ],
   "source": [
    "# 실습3 실습 1에서 입력 받은 숫자를 활용하여 논리 연산 결과 출력\n",
    "# 최대값과 최소값을 추가로 입력받은 후 논리 연산\n",
    "\n",
    "maxnum = int(input(\"최대값 : \"))\n",
    "minnum = int(input(\"최소값 : \"))\n",
    "\n",
    "\n",
    "\n",
    "print(f\"{a} > {b} and {a} > {maxnum}  =>  {a>b and a > maxnum}\")\n",
    "print(f\"{a} > {b} or {a} > {minnum}  =>  {a>b or a > minnum}\")\n",
    "print(f\"not {a}             =>  {not a}\")\n",
    "\n",
    "\n",
    "# is와 ==의 차이\n",
    "# is는 변수가 같은 Object(객체)를 가리키면 True\n",
    "# ==는 변수가 같은 Value(값)을 가지면 True\n",
    "\n",
    "\n"
   ]
  },
  {
   "cell_type": "markdown",
   "metadata": {},
   "source": [
    "<h3> 숫자처리관련 함수"
   ]
  },
  {
   "cell_type": "code",
   "execution_count": 128,
   "metadata": {},
   "outputs": [
    {
     "name": "stdout",
     "output_type": "stream",
     "text": [
      "3 절대값 = 3\n",
      "-3 절대값 = 3\n",
      "1.23456789 => 1.234568\n",
      "1.23456789 => 1.235\n",
      "1.567 => 2\n"
     ]
    }
   ],
   "source": [
    "# 숫자 데이터 관련 내장 함수들 살펴보기\n",
    "# 내장 함수는 bultins 함수라 칭하며 기본 제공됨\n",
    "\n",
    "# 절대값 반환하는 내장 함수  abs(숫자데이터)\n",
    "\n",
    "nnn1 = 3\n",
    "\n",
    "print(f\"{nnn1} 절대값 = {abs(nnn1)}\")\n",
    "\n",
    "nnn1 = -3\n",
    "\n",
    "print(f\"{nnn1} 절대값 = {abs(nnn1)}\")\n",
    "\n",
    "# 실수값에서 소수점 이하 자리수 처리해주는 내장 함수 => round(실수데이터, 소수점이하자리숫자)\n",
    "\n",
    "nnn1 = 1.23456789\n",
    "\n",
    "print(f\"{nnn1} => {round(nnn1,6)}\")\n",
    "print(f\"{nnn1} => {round(nnn1,3)}\")\n",
    "print(f\"1.567 => {round(1.567)}\")\n",
    "\n",
    "\n"
   ]
  },
  {
   "cell_type": "markdown",
   "metadata": {},
   "source": [
    "<h1>문자열 자료형"
   ]
  },
  {
   "cell_type": "code",
   "execution_count": 137,
   "metadata": {},
   "outputs": [
    {
     "name": "stdout",
     "output_type": "stream",
     "text": [
      "23\n",
      "9\n",
      "8\n"
     ]
    }
   ],
   "source": [
    "# 가장 큰 수 / 가장 작은 수 찾아주는 내장함수 => max(), min()\n",
    "\n",
    "print(max(1,23,4,5,6,7,8,8,9,))\n",
    "print(max(1,-23,4,5,6,7,8,8,9,))\n",
    "\n",
    "# 거듭제곱 계산해주는 pow()\n",
    "# 다만 연산자를 쓰는 것이 중요함\n",
    "\n",
    "print(pow(2,3))\n"
   ]
  },
  {
   "cell_type": "code",
   "execution_count": 144,
   "metadata": {},
   "outputs": [
    {
     "name": "stdout",
     "output_type": "stream",
     "text": [
      "0x186a0\n",
      "0o303240\n",
      "16진수 0x48, 8진수 0o110, 2진수 0b1001000\n"
     ]
    }
   ],
   "source": [
    "# 숫자 변환함수\n",
    "'''\n",
    "숫자 표현 방식으로 변환 내장함수\n",
    "- 16진수로 변환 함수 hex(정수)\n",
    "- 8 진수로 변환 함수 oct(정수)\n",
    "- 2 진수로 변환 함수 bin(정수)\n",
    "해당 변환 함수의 결과는 모두 문자로 반환됨\n",
    "'''\n",
    "\n",
    "print(hex(100000))\n",
    "\n",
    "print(oct(100000))\n",
    "\n",
    "num = 72\n",
    "numhex = hex(num)\n",
    "numoct = oct(num)\n",
    "numbin = bin(num)\n",
    "\n",
    "print(f\"16진수 {numhex}, 8진수 {numoct}, 2진수 {numbin}\")\n",
    "\n"
   ]
  }
 ],
 "metadata": {
  "kernelspec": {
   "display_name": "py3_9",
   "language": "python",
   "name": "python3"
  },
  "language_info": {
   "codemirror_mode": {
    "name": "ipython",
    "version": 3
   },
   "file_extension": ".py",
   "mimetype": "text/x-python",
   "name": "python",
   "nbconvert_exporter": "python",
   "pygments_lexer": "ipython3",
   "version": "3.9.18"
  }
 },
 "nbformat": 4,
 "nbformat_minor": 2
}
