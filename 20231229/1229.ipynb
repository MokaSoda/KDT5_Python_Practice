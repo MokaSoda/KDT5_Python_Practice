{
 "cells": [
  {
   "cell_type": "code",
   "execution_count": 2,
   "metadata": {},
   "outputs": [
    {
     "name": "stdout",
     "output_type": "stream",
     "text": [
      "True\n",
      "True\n"
     ]
    }
   ],
   "source": [
    "# 단락 평가\n",
    "# 파이선의 최적화 방식\n",
    "# 논리 연산시 이전의 결과값이 뒷 값과 관계없이 충분히 근거가 될 경우\n",
    "# 뒷 연산을 생략하여 최적화함\n",
    "\n",
    "# 해당 조건은 뒷 조건을 확인해보아야 함 \n",
    "print(False or True)\n",
    "\n",
    "# 해당 코드는 앞에 True이므로 뒷 조건을  확인하지 않음 (단락 평가)\n",
    "print(True or False)\n"
   ]
  },
  {
   "cell_type": "markdown",
   "metadata": {},
   "source": [
    "<h3> str 메서드 </h3>\n",
    "\n",
    "<ul>\n",
    "<li>메서드(Method) : 특정 데이터 타입에서만 사용 가능한 함수를 의미\n",
    "<li>사용방법 : 변수명.메서드명() 혹은 데이터.메서드명()\n"
   ]
  },
  {
   "cell_type": "code",
   "execution_count": 7,
   "metadata": {},
   "outputs": [
    {
     "name": "stdout",
     "output_type": "stream",
     "text": [
      "GOOD\n",
      "good\n",
      "GOOD대문자 여부 : True\n",
      "GOOD소문자 여부 : False\n",
      "\n",
      "\"good\".isdecimal() False\n",
      "\"1234\".isdecimal() True\n",
      "\"-1234\".isdecimal() False\n",
      "\n",
      "\"good\".isalpha() True\n",
      "\"123good\".isalpha() False\n",
      "\"한글\".isalpha() True\n",
      "\"한11글\".isalpha() False\n",
      "\n",
      "\"good\".isalnum() True\n",
      "\"123good\".isalnum() True\n",
      "\"한글\".isalnum() True\n",
      "\"한11글\".isalnum() True\n",
      "\n",
      "??!! 가 ?로 시작하나요? True\n",
      "??!! 가 ?로 끝나나요? False\n",
      "HongGilDong\n",
      "H*ngGulDong\n"
     ]
    }
   ],
   "source": [
    "# 예시\n",
    "# msg = 'good'\n",
    "# msg.split()\n",
    "# \"good\".split()\n",
    "\n",
    "# 대문자 변환\n",
    "good_upper = \"Good\".upper()\n",
    "print(good_upper)\n",
    "\n",
    "# 소문자 변환\n",
    "good_lower = \"Good\".lower()\n",
    "print(good_lower)\n",
    "\n",
    "# 모든 문자의 대문자 소문자 여부 검사후 결과 반환\n",
    "print(f\"{good_upper}대문자 여부 : {good_upper.isupper()}\")\n",
    "print(f\"{good_upper}소문자 여부 : {good_upper.islower()}\")\n",
    "\n",
    "print()\n",
    "# 숫자 판별기\n",
    "print('\"good\".isdecimal() {}'.format(\"good\".isdecimal()))\n",
    "print('\"1234\".isdecimal() {}'.format(\"1234\".isdecimal()))\n",
    "print('\"-1234\".isdecimal() {}'.format(\"-1234\".isdecimal()))\n",
    "\n",
    "print()\n",
    "# str이 문자로만 구성되어 있는지 검사 후 결과 반환 => isalpha()\n",
    "print('\"good\".isalpha() {}'.format(\"good\".isalpha()))\n",
    "print('\"123good\".isalpha() {}'.format(\"123good\".isalpha()))\n",
    "print('\"한글\".isalpha() {}'.format(\"한글\".isalpha()))\n",
    "print('\"한11글\".isalpha() {}'.format(\"한11글\".isalpha()))\n",
    "\n",
    "\n",
    "print()\n",
    "# str이 숫자문자로 구성되어 있는가 => isalnum()\n",
    "print('\"good\".isalnum() {}'.format(\"good\".isalnum()))\n",
    "print('\"123good\".isalnum() {}'.format(\"123good\".isalnum()))\n",
    "print('\"한글\".isalnum() {}'.format(\"한글\".isalnum()))\n",
    "print('\"한11글\".isalnum() {}'.format(\"한11글\".isalnum()))\n",
    "\n",
    "\n",
    "\n",
    "print()\n",
    "# str 문자의 시작에서 특정 문자로 시작하는 지 판별 후 결과반환 ==> .startswith(\"?\")\n",
    "print(f'??!! 가 ?로 시작하나요? {\"????\".startswith(\"?\")}')\n",
    "\n",
    "# str 문자의 끝 부분이 특정문자로 끝나나 ==> .endswith(\"?\")\n",
    "print(f'??!! 가 ?로 끝나나요? {\"??!!\".endswith(\"?\")}')\n",
    "\n",
    "# str 특정 인덱스의 문자를 변경해주는 메서드 ==> replace\n",
    "name = \"HongGulDong\"\n",
    "\n",
    "# name[5] = 'i'\n",
    "# str 객체는 인덱싱 방식으로 바꾸는 것을 지원하지 않음 >> 메서드를 지원해줌\n",
    "\n",
    "\n",
    "rename1 = name.replace(\"u\",\"i\")\n",
    "print(rename1)\n",
    "\n",
    "rename2 = name.replace(\"o\", \"*\", 1)\n",
    "print(rename2)\n",
    "\n",
    "\n",
    "\n"
   ]
  },
  {
   "cell_type": "code",
   "execution_count": 14,
   "metadata": {},
   "outputs": [
    {
     "name": "stdout",
     "output_type": "stream",
     "text": [
      "단어 somageimage.jpg가 알파벳으로만 이루어져 있는지 여부 = False\n",
      "단어 somageimage.jpg가 숫자로만 이루어져 있는지 여부 = False\n",
      "단어 somageimage.jpg가 모두 대문자로만 이루어져 있는지 여부 = False\n",
      "단어 somageimage.jpg가 모두 소문자로만 이루어져 있는지 여부 = True\n"
     ]
    }
   ],
   "source": [
    "# 실습1 단어를 입력 받은 후 아래 코드를 작성하세요\n",
    "# - 입력 받은 단어가 알파벳만으로 구성되어 있는지 검사\n",
    "# - 입력 받은 단어가 숫자만으로 구성되어 있는지 검사\n",
    "# - 입력 받은 단어가 모두 대문자로 구성되어 있는지 검사\n",
    "# - 입력 받은 단어가 모두 소문자로 구성되어 있는지 검사\n",
    "\n",
    "user = input(\"단어를 입력해주세요 : \")\n",
    "\n",
    "print(f\"단어 {user}가 알파벳으로만 이루어져 있는지 여부 = {user.isalpha()}\")\n",
    "print(f\"단어 {user}가 숫자로만 이루어져 있는지 여부 = {user.isnumeric()}\")\n",
    "print(f\"단어 {user}가 모두 대문자로만 이루어져 있는지 여부 = {user.isupper()}\")\n",
    "print(f\"단어 {user}가 모두 소문자로만 이루어져 있는지 여부 = {user.islower()}\")\n",
    "\n",
    "\n",
    "filename = input(\"파일명 입력 : \")\n"
   ]
  },
  {
   "cell_type": "code",
   "execution_count": 19,
   "metadata": {},
   "outputs": [
    {
     "name": "stdout",
     "output_type": "stream",
     "text": [
      "파일 eate.txt 의 텍스트 파일 여부 : True\n",
      "파일 eate.txt 의 이미지 파일 여부 : False\n",
      "파일 eate.txt 의 파이선 파일 여부 : False\n"
     ]
    }
   ],
   "source": [
    "# 실습2 파일명을 입력 받은 후 아래 코드를 작성하세요 : str 전용 메서드 활용\n",
    "# - 입력 받은 파일이 text 파일인지 검사하기 (확장자 : txt)\n",
    "# - 입력 받은 파일이 jpg 파일인지 검사하기  (확장자 : jpg)\n",
    "# - 입력 받은 파일이 py 파일인지 검사하기   (확장자 : py )\n",
    "\n",
    "filename = input(\"원하는 파일명을 입력해보세요 : \")\n",
    "\n",
    "try:\n",
    "    extension = filename.split()[-1]\n",
    "    print(\"파일 {} 의 텍스트 파일 여부 : {}\".format(filename, extension.count(\"txt\")>0))\n",
    "    print(\"파일 {} 의 이미지 파일 여부 : {}\".format(filename, extension.endswith(('jpg','png','jpeg','bmp'))))\n",
    "    print(\"파일 {} 의 파이선 파일 여부 : {}\".format(filename, extension.find(\"py\")>=0))   \n",
    "except:\n",
    "    print(\"파일 형식이 올바르지 않습니다.\")\n",
    "\n",
    "\n"
   ]
  },
  {
   "cell_type": "code",
   "execution_count": 41,
   "metadata": {},
   "outputs": [
    {
     "name": "stdout",
     "output_type": "stream",
     "text": [
      "data.index('C') => 6\n",
      "data.index('r') => 2\n",
      "\n",
      "data.index('r', 0) => 2\n",
      "data.index('r', data.index('r') + 1) => 3\n"
     ]
    }
   ],
   "source": [
    "data = \"Merry Christmas\"\n",
    "\n",
    "# .index() str 데이터에서 특정 문자의 인덱스를 반환하는 메서드 => index()\n",
    "# 만약 문자가 존제하지 않는 경우 실행 에러 ValueError\n",
    "\n",
    "\n",
    "print(f\"data.index('C') => {data.index('C')}\")\n",
    "print(f\"data.index('r') => {data.index('r')}\")\n",
    "\n",
    "\n",
    "print()\n",
    "print(f\"data.index('r', 0) => {data\n",
    "                               .index('r', 0)}\")\n",
    "print(f\"data.index('r', data.index('r') + 1) => {data.index('r', data.index('r')+ 1)}\")\n",
    "\n",
    "\n",
    "first_r = data.index(\"r\")\n",
    "second_r = data.index(\"r\", first_r+1)\n",
    "third_r = data.index(\"r\", second_r+1)\n",
    "\n",
    "# !의 인덱스 찾기\n",
    "# print(f\"{data.index('!')}\")\n"
   ]
  },
  {
   "cell_type": "code",
   "execution_count": 43,
   "metadata": {},
   "outputs": [
    {
     "data": {
      "text/plain": [
       "-1"
      ]
     },
     "execution_count": 43,
     "metadata": {},
     "output_type": "execute_result"
    }
   ],
   "source": [
    "# .find()\n",
    "# 찾고자 하는 값이 없는 경우 -1 을 반환함\n",
    "# \n",
    "\n",
    "data.find(\"!\")\n"
   ]
  },
  {
   "cell_type": "markdown",
   "metadata": {},
   "source": [
    "<h3> str split과 리스트 개념 진입"
   ]
  },
  {
   "cell_type": "code",
   "execution_count": 68,
   "metadata": {},
   "outputs": [
    {
     "name": "stdout",
     "output_type": "stream",
     "text": [
      "<class 'list'> ['Happy', 'New', 'Year']\n",
      "data[0] ==> Happy\n",
      "data[1] ==> New\n",
      "data[2] ==> Year\n"
     ]
    }
   ],
   "source": [
    "# str 에서 split() 메서드\n",
    "# - 기본값 : 스페이스 바, 공백 기준으로 1개의 str을 여러 개의 str 로 분리\n",
    "# - 반환값/결과값/리턴값 : 여러 개의 str을 담아서 리스트(list)로 반환\n",
    "\n",
    "data = 'Happy New Year'\n",
    "\n",
    "# str에서 공백을 기준으로 str 나누기\n",
    "datas = data.split()\n",
    "print(type(datas), datas)\n",
    "\n",
    "# list에 저장된 원소/요소 하나씩 읽기 => 변수명[인덱스]\n",
    "for x in range(len(datas)):\n",
    "    print(f\"data[{x}] ==> {datas[x]}\")\n",
    "\n",
    "juminNo = \"123456-1234567\"\n",
    "juminNos = juminNo.split('-')\n",
    "juminNoL = juminNo[:juminNo.find(\"-\")]\n",
    "juminNoR = juminNo[juminNo.find(\"-\")+1:]\n",
    "\n",
    "\n"
   ]
  },
  {
   "attachments": {
    "image.png": {
     "image/png": "[encoded data removed]"
    }
   },
   "cell_type": "markdown",
   "metadata": {},
   "source": [
    "![image.png](attachment:image.png)"
   ]
  },
  {
   "cell_type": "markdown",
   "metadata": {},
   "source": [
    "<h1> 리스트 연습하기"
   ]
  },
  {
   "cell_type": "code",
   "execution_count": 109,
   "metadata": {},
   "outputs": [
    {
     "name": "stdout",
     "output_type": "stream",
     "text": [
      "id(no) => 2422036118016\n",
      "id(no[0]) ==> 2421666893872\n",
      "id(no[1]) ==> 2421666894960\n",
      "id(no[2]) ==> 2421666703696\n",
      "[93, 99, 98]\n",
      "[89, 92, 33, 93, 98]\n"
     ]
    }
   ],
   "source": [
    "# 리스트 데이터 타입\n",
    "# - 여러 종류의 여러 개의 데이터를 저장하는 타입\n",
    "# - 문법 : [데이터1, 데이터2, ....., 데이터N]\n",
    "# - 특징 : 데이터 하나 하나를 요소/원소라고 지칭 함\n",
    "#         하나 하나의 요소/원소를 식별하기 위해서 인덱싱(Indexing)\n",
    "# - 순서가 있는 데이터 타입 => 시퀀스 데이터 타입\n",
    "# 리스트 데이터 생성 -------------------------------------------\n",
    "# 숫자 10개를 메모리에 저장\n",
    "import sys\n",
    "import random\n",
    "\n",
    "no =[x for x in random.sample(range(1,100),10)]\n",
    "print(f\"id(no) => {id(no)}\\nid(no[0]) ==> {id(no[0])}\")\n",
    "print(f\"id(no[1]) ==> {id(no[1])}\")\n",
    "print(f\"id(no[2]) ==> {id(no[2])}\")\n",
    "\n",
    "# 리스트의 원소/요소 한 개씩 접근 하는 방법 => 변수명[인덱스]\n",
    "# - 왼쪽 => 오른쪽 : 0 ~\n",
    "# - 오른쪽 => 왼쪽 : -1 ~\n",
    "#  => 슬라이싱 가능\n",
    "\n",
    "\n"
   ]
  },
  {
   "cell_type": "markdown",
   "metadata": {},
   "source": [
    "<h3> 리스트 연습 2 : 다양한 리스트 생성하기"
   ]
  },
  {
   "cell_type": "code",
   "execution_count": 137,
   "metadata": {},
   "outputs": [
    {
     "name": "stdout",
     "output_type": "stream",
     "text": [
      "mixed[0] => 13.6, <class 'float'>\n",
      "mixed[1] => 18.6, <class 'float'>\n",
      "mixed[2] => 16.1, <class 'float'>\n",
      "mixed[3] => 14.0, <class 'float'>\n",
      "mixed[4] => 14.5, <class 'float'>\n",
      "mixed[5] => 19, <class 'str'>\n",
      "mixed[6] => 15, <class 'str'>\n",
      "mixed[7] => 10, <class 'str'>\n",
      "mixed[8] => 11, <class 'str'>\n",
      "mixed[9] => 17, <class 'str'>\n",
      "mixed[10] => False, <class 'bool'>\n",
      "mixed[11] => False, <class 'bool'>\n",
      "mixed[12] => False, <class 'bool'>\n",
      "mixed[13] => False, <class 'bool'>\n",
      "mixed[14] => False, <class 'bool'>\n",
      "mixed[15] => [13, 14, 15, 17, 19], <class 'list'>\n",
      "mixed[15][0] => 13\n",
      "mixed[15][1] => 14\n",
      "mixed[15][2] => 15\n",
      "mixed[15][3] => 17\n",
      "mixed[15][4] => 19\n"
     ]
    }
   ],
   "source": [
    "# 다양한 리스트 생성\n",
    "# 실수 데이터로 구성된 리스트 생성\n",
    "import random\n",
    "# 실수\n",
    "floatNums = [x/10 for x in list(random.sample(range(100,200),5))]\n",
    "\n",
    "# 문자형 숫자\n",
    "strNums = [str(x) for x in random.sample(range(10,20),5)]\n",
    "\n",
    "# 참거짓\n",
    "boolNums = [ bool(x%2) for x in random.sample(range(100,200),5)]\n",
    "\n",
    "# 혼합형\n",
    "mixed = floatNums + strNums + boolNums\n",
    "\n",
    "# 빈리스트\n",
    "empty = []\n",
    "\n",
    "# 이중리스트\n",
    "nested =[sorted([x for x in random.sample(range(10,20),5)])]\n",
    "\n",
    "# 리스트의 요소 출력\n",
    "mixed += nested\n",
    "for x in range(len(mixed)):\n",
    "    print(f\"mixed[{x}] => {mixed[x]}, {type(mixed[x])}\")\n",
    "    if type(mixed[x]) == type(list()):\n",
    "        for y in range(len(mixed[x])):\n",
    "            print(f\"mixed[{x}][{y}] =>\",mixed[x][y])\n",
    "\n",
    "\n",
    "\n"
   ]
  },
  {
   "cell_type": "code",
   "execution_count": 160,
   "metadata": {},
   "outputs": [
    {
     "name": "stdout",
     "output_type": "stream",
     "text": [
      "[79, 45, 29, 88, 72, 31, 97]\n",
      "79\n",
      "45\n",
      "29\n",
      "88\n",
      "72\n",
      "31\n",
      "97\n"
     ]
    }
   ],
   "source": [
    "# 실습1 임의의 숫자 데이터를 7개 저장한 리스트를 생성\n",
    "# 리스트에 원소를 하니씩 화면에 출력하세요.\n",
    "\n",
    "import random\n",
    "# nums7 = [x for x in random.sample(range(10,99),7)]\n",
    "nums7 = [79, 45, 29, 88, 72, 31, 97]\n",
    "print(nums7)\n",
    "print(\"{}\\n{}\\n{}\\n{}\\n{}\\n{}\\n{}\".format(nums7[0],nums7[1],nums7[2],nums7[3],nums7[4],nums7[5],nums7[6]))"
   ]
  },
  {
   "cell_type": "code",
   "execution_count": 153,
   "metadata": {},
   "outputs": [
    {
     "name": "stdout",
     "output_type": "stream",
     "text": [
      "10\n",
      "20\n",
      "40\n",
      "50\n",
      "70\n",
      "80\n",
      "90\n"
     ]
    }
   ],
   "source": [
    "# 실습2 아래 리스트에서 원소를 화면에 한 줄에 한개씩 출력하세요\n",
    "\n",
    "datas = [[10,20], [40,50], [70,80,90]]\n",
    "\n",
    "# for x in datas:\n",
    "#     for y in x:\n",
    "#         print(y)\n",
    "\n",
    "print(f\"{datas[0][0]}\\n{datas[0][1]}\\n{datas[1][0]}\\n{datas[1][1]}\\n{datas[2][0]}\\n{datas[2][1]}\\n{datas[2][2]}\")\n",
    "\n"
   ]
  },
  {
   "cell_type": "code",
   "execution_count": 149,
   "metadata": {},
   "outputs": [
    {
     "name": "stdout",
     "output_type": "stream",
     "text": [
      "여름 1월\n"
     ]
    }
   ],
   "source": [
    "# 실습3 좋아하는 계절과 월(month)을 입력 받을 후 각가 변수에 저장하세요.\n",
    "# 변수명은 season, month 입니다\n",
    "seasonmonth = input(\"좋아하는 계절과 월 입력(예: 가을 11월)\")\n",
    "season, month = seasonmonth.split()\n",
    "\n",
    "print(season, month)\n",
    "\n"
   ]
  },
  {
   "cell_type": "code",
   "execution_count": 163,
   "metadata": {},
   "outputs": [
    {
     "name": "stdout",
     "output_type": "stream",
     "text": [
      "[1, 2, 3, 4, 5, 6, 7, 8, 9, 10, 11, 12, 13, 14, 15, 16, 17, 18, 19, 20]\n",
      "[4, 7, 10, 13, 16, 19]\n",
      "3의 배수 인덱스의 합계 = 69\n"
     ]
    }
   ],
   "source": [
    "# 실습4\n",
    "# 3의 인덱스 배수\n",
    "# onetwenty = [x for x in range(1,21)]\n",
    "onetwenty = [1, 2, 3, 4, 5, 6, 7, 8, 9, 10, 11, 12, 13, 14, 15, 16, 17, 18, 19, 20]\n",
    "print(onetwenty)\n",
    "div3 = onetwenty[3::3]\n",
    "\n",
    "# for x in div3:\n",
    "#     print(x ,end=\" \")\n",
    "print(div3)\n",
    "\n",
    "total = div3[0] + div3[1] + div3[2] + div3[3] + div3[4] + div3[5]\n",
    "print(\"3의 배수 인덱스의 합계 = {}\".format(total))\n"
   ]
  },
  {
   "cell_type": "markdown",
   "metadata": {},
   "source": [
    "<h3> range 함수"
   ]
  },
  {
   "cell_type": "code",
   "execution_count": 183,
   "metadata": {},
   "outputs": [
    {
     "name": "stdout",
     "output_type": "stream",
     "text": [
      "range(0, 20) <class 'range'>\n",
      "0 <class 'int'> 20 개\n",
      "nums => range(0, 5), <class 'range'>\n",
      "nums => range(0, 20), <class 'range'>\n",
      "list(nums) => [0, 1, 2, 3, 4, 5, 6, 7, 8, 9, 10, 11, 12, 13, 14, 15, 16, 17, 18, 19]\n",
      "[3, 6, 9, 12, 15, 18, 21, 24, 27, 30, 33, 36, 39, 42, 45, 48, 51, 54, 57, 60, 63, 66, 69, 72, 75, 78, 81, 84, 87, 90, 93, 96, 99, 102, 105, 108, 111, 114, 117, 120, 123, 126, 129, 132, 135, 138, 141, 144, 147, 150, 153, 156, 159, 162, 165, 168, 171, 174, 177, 180, 183, 186, 189, 192, 195, 198, 201, 204, 207, 210, 213, 216, 219, 222, 225, 228, 231, 234, 237, 240, 243, 246, 249, 252, 255, 258, 261, 264, 267, 270, 273, 276, 279, 282, 285, 288, 291, 294, 297, 300, 303, 306, 309, 312, 315, 318, 321, 324, 327, 330, 333, 336, 339, 342, 345, 348, 351, 354, 357, 360, 363, 366, 369, 372, 375, 378, 381, 384, 387, 390, 393, 396, 399, 402, 405, 408, 411, 414, 417, 420, 423, 426, 429, 432, 435, 438, 441, 444, 447, 450, 453, 456, 459, 462, 465, 468, 471, 474, 477, 480, 483, 486, 489, 492, 495, 498, 501, 504, 507, 510, 513, 516, 519, 522, 525, 528, 531, 534, 537, 540, 543, 546, 549, 552, 555, 558, 561, 564, 567, 570, 573, 576, 579, 582, 585, 588, 591, 594, 597, 600, 603, 606, 609, 612, 615, 618, 621, 624, 627, 630, 633, 636, 639, 642, 645, 648, 651, 654, 657, 660, 663, 666, 669, 672, 675, 678, 681, 684, 687, 690, 693, 696, 699, 702, 705, 708, 711, 714, 717, 720, 723, 726, 729, 732, 735, 738, 741, 744, 747, 750, 753, 756, 759, 762, 765, 768, 771, 774, 777, 780, 783, 786, 789, 792, 795, 798, 801, 804, 807, 810, 813, 816, 819, 822, 825, 828, 831, 834, 837, 840, 843, 846, 849, 852, 855, 858, 861, 864, 867, 870, 873, 876, 879, 882, 885, 888, 891, 894, 897, 900, 903, 906, 909, 912, 915, 918, 921, 924, 927, 930, 933, 936, 939, 942, 945, 948, 951, 954, 957, 960, 963, 966, 969, 972, 975, 978, 981, 984, 987, 990, 993, 996, 999]\n"
     ]
    }
   ],
   "source": [
    "# ex_range()\n",
    "# range 내장 함수\n",
    "# 1 ~ 20 으로 구성된 정수 데이터 생성\n",
    "# 데이터 범위에 포함되는 숫자 데이터는 원소/요소라고 함 => indexing 접근\n",
    "# \n",
    "\n",
    "result = list(range(1,21))\n",
    "nums = range(20)\n",
    "print(nums, type(nums))\n",
    "print(nums[0], type(nums[0]), len(nums), \"개\")\n",
    "\n",
    "\n",
    "# 앞부분 5개 원소까지만 추출 => 슬라이싱\n",
    "# 리스트가 나오는 것이 아닌 range의 일부를 추출\n",
    "print(f\"nums => {nums[:5]}, {type(nums[:5])}\")\n",
    "print(f\"nums => {nums[:40]}, {type(nums[:40])}\")\n",
    "\n",
    "# range ==> list 형 변환하기 => list(데이터)\n",
    "print(f\"list(nums) => {list(nums)}\")\n",
    "\n",
    "# 1~100 까지 구성된 정수 리스트\n",
    "\n",
    "# range(시작값, 끝값)\n",
    "# 시작값 => 기본 : 0        range(10) >> 0부터 9까지\n",
    "# 시작값 => 기본 : 1        range(1,10) >> 1부터 9까지\n",
    "# 시작값 => 기본 : 5        range(5,10) >> 5부터 9까지\n",
    "# 1~30 범위에서 3의 배수만으로 구성된 리스트 생성\n",
    "# \n",
    "threes = list(range(3,1001,3))\n",
    "print(threes)\n"
   ]
  },
  {
   "cell_type": "code",
   "execution_count": 193,
   "metadata": {},
   "outputs": [
    {
     "name": "stdout",
     "output_type": "stream",
     "text": [
      "[2, 4, 6, 8, 10, 12, 14, 16, 18, 20, 22, 24, 26, 28, 30, 32, 34, 36, 38, 40, 42, 44, 46, 48, 50, 'a', 'b']\n",
      "[12, 3, 4, 5, 's', 't', 'r']\n",
      "test['a', 'b']\n",
      "[1, 2, 3, 4, 1, 2, 3, 4, 1, 2, 3, 4]\n",
      "False\n",
      "True\n"
     ]
    }
   ],
   "source": [
    "# List 자료형의 연산 살펴보기\n",
    "# - 산술 연산\n",
    "# - 비교 연산\n",
    "# - 맴버 연산자 \n",
    "\n",
    "twoNums = list(range(2,51,2))\n",
    "\n",
    "twoNumsAdd = twoNums + ['a','b']\n",
    "\n",
    "print(twoNumsAdd)\n",
    "print([12,3,4,5] + list(\"str\"))\n",
    "\n",
    "# list를 str 로 바꿀 경우 list 자체가 문자로 출력됨\n",
    "print(\"test\"+ str(['a','b']))\n",
    "\n",
    "# 리스트 곱셈\n",
    "# list * int => int만큼 원소를 반복해서 하나의 list\n",
    "print([1,2,3,4,]*3)\n",
    "\n",
    "# 맴버연산자 in과 not in ------------------------\n",
    "#           >> 결과 : True / False\n",
    "\n",
    "\n",
    "print(\"C\" in twoNums)\n",
    "print(4 in twoNums)\n",
    "\n",
    "\n"
   ]
  },
  {
   "cell_type": "markdown",
   "metadata": {},
   "source": [
    "<h3> 리스트 값 추가 변경 등"
   ]
  },
  {
   "cell_type": "code",
   "execution_count": 201,
   "metadata": {},
   "outputs": [
    {
     "name": "stdout",
     "output_type": "stream",
     "text": [
      "['M', 'e', 'r', 'r', 'y', '***', 'C', 'h', 'r', 'i', 's', 't', 'm', 'a', 's']\n",
      "['M', 'e', 'r', 'r', 'y', 'C', 'h', 'r', 'i', 's', 't', 'm', 'a', 's']\n"
     ]
    },
    {
     "ename": "NameError",
     "evalue": "name 'christmas_list' is not defined",
     "output_type": "error",
     "traceback": [
      "\u001b[1;31m---------------------------------------------------------------------------\u001b[0m",
      "\u001b[1;31mNameError\u001b[0m                                 Traceback (most recent call last)",
      "Cell \u001b[1;32mIn[201], line 16\u001b[0m\n\u001b[0;32m     13\u001b[0m \u001b[38;5;28mprint\u001b[39m(christmas_list)\n\u001b[0;32m     15\u001b[0m \u001b[38;5;28;01mdel\u001b[39;00m(christmas_list)\n\u001b[1;32m---> 16\u001b[0m christmas_deque \u001b[38;5;241m=\u001b[39m deque(\u001b[43mchristmas_list\u001b[49m)\n",
      "\u001b[1;31mNameError\u001b[0m: name 'christmas_list' is not defined"
     ]
    }
   ],
   "source": [
    "# 리스트의 원소 원소 데이터 변경 및 삭제\n",
    "# list의 원소/요소 데이터 변경 및 삭제\n",
    "from collections import deque\n",
    "christmas_list = list(\"Merry Christmas\")\n",
    "\n",
    "# 공백을 *** 로 변경하기\n",
    "christmas_list[5] = \"***\"\n",
    "print(christmas_list)\n",
    "\n",
    "# 삭제 ==> del 데이터 또는 del(데이터)\n",
    "# 명령어임\n",
    "del(christmas_list[5])\n",
    "print(christmas_list)\n",
    "\n",
    "del(christmas_list)\n",
    "\n",
    "# christmas_deque = deque(christmas_list)"
   ]
  }
 ],
 "metadata": {
  "kernelspec": {
   "display_name": "py3_9",
   "language": "python",
   "name": "python3"
  },
  "language_info": {
   "codemirror_mode": {
    "name": "ipython",
    "version": 3
   },
   "file_extension": ".py",
   "mimetype": "text/x-python",
   "name": "python",
   "nbconvert_exporter": "python",
   "pygments_lexer": "ipython3",
   "version": "3.9.18"
  }
 },
 "nbformat": 4,
 "nbformat_minor": 2
}
