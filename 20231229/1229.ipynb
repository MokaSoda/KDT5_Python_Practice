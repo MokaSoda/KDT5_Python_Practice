{
 "cells": [
  {
   "cell_type": "code",
   "execution_count": 2,
   "metadata": {},
   "outputs": [
    {
     "name": "stdout",
     "output_type": "stream",
     "text": [
      "True\n",
      "True\n"
     ]
    }
   ],
   "source": [
    "# 단락 평가\n",
    "# 파이선의 최적화 방식\n",
    "# 논리 연산시 이전의 결과값이 뒷 값과 관계없이 충분히 근거가 될 경우\n",
    "# 뒷 연산을 생략하여 최적화함\n",
    "\n",
    "# 해당 조건은 뒷 조건을 확인해보아야 함 \n",
    "print(False or True)\n",
    "\n",
    "# 해당 코드는 앞에 True이므로 뒷 조건을  확인하지 않음 (단락 평가)\n",
    "print(True or False)\n"
   ]
  },
  {
   "cell_type": "markdown",
   "metadata": {},
   "source": [
    "<h3> str 메서드 </h3>\n",
    "\n",
    "<ul>\n",
    "<li>메서드(Method) : 특정 데이터 타입에서만 사용 가능한 함수를 의미\n",
    "<li>사용방법 : 변수명.메서드명() 혹은 데이터.메서드명()\n"
   ]
  },
  {
   "cell_type": "code",
   "execution_count": 10,
   "metadata": {},
   "outputs": [
    {
     "name": "stdout",
     "output_type": "stream",
     "text": [
      "GOOD\n",
      "good\n"
     ]
    }
   ],
   "source": [
    "# 예시\n",
    "# msg = 'good'\n",
    "# msg.split()\n",
    "# \"good\".split()\n",
    "\n",
    "# 대문자 변환\n",
    "good_upper = \"Good\".upper()\n",
    "print(good_upper)\n",
    "\n",
    "# 소문자 변환\n",
    "good_lower = \"Good\".lower()\n",
    "print(good_lower)\n",
    "\n",
    "\n"
   ]
  },
  {
   "cell_type": "code",
   "execution_count": null,
   "metadata": {},
   "outputs": [],
   "source": []
  }
 ],
 "metadata": {
  "kernelspec": {
   "display_name": "py3_9",
   "language": "python",
   "name": "python3"
  },
  "language_info": {
   "codemirror_mode": {
    "name": "ipython",
    "version": 3
   },
   "file_extension": ".py",
   "mimetype": "text/x-python",
   "name": "python",
   "nbconvert_exporter": "python",
   "pygments_lexer": "ipython3",
   "version": "3.9.18"
  }
 },
 "nbformat": 4,
 "nbformat_minor": 2
}
