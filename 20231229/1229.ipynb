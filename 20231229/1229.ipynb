{
 "cells": [
  {
   "cell_type": "code",
   "execution_count": 2,
   "metadata": {},
   "outputs": [
    {
     "name": "stdout",
     "output_type": "stream",
     "text": [
      "True\n",
      "True\n"
     ]
    }
   ],
   "source": [
    "# 단락 평가\n",
    "# 파이선의 최적화 방식\n",
    "# 논리 연산시 이전의 결과값이 뒷 값과 관계없이 충분히 근거가 될 경우\n",
    "# 뒷 연산을 생략하여 최적화함\n",
    "\n",
    "# 해당 조건은 뒷 조건을 확인해보아야 함 \n",
    "print(False or True)\n",
    "\n",
    "# 해당 코드는 앞에 True이므로 뒷 조건을  확인하지 않음 (단락 평가)\n",
    "print(True or False)\n"
   ]
  },
  {
   "cell_type": "markdown",
   "metadata": {},
   "source": [
    "<h3> str 메서드 </h3>\n",
    "\n",
    "<ul>\n",
    "<li>메서드(Method) : 특정 데이터 타입에서만 사용 가능한 함수를 의미\n",
    "<li>사용방법 : 변수명.메서드명() 혹은 데이터.메서드명()\n"
   ]
  },
  {
   "cell_type": "code",
   "execution_count": 7,
   "metadata": {},
   "outputs": [
    {
     "name": "stdout",
     "output_type": "stream",
     "text": [
      "GOOD\n",
      "good\n",
      "GOOD대문자 여부 : True\n",
      "GOOD소문자 여부 : False\n",
      "\n",
      "\"good\".isdecimal() False\n",
      "\"1234\".isdecimal() True\n",
      "\"-1234\".isdecimal() False\n",
      "\n",
      "\"good\".isalpha() True\n",
      "\"123good\".isalpha() False\n",
      "\"한글\".isalpha() True\n",
      "\"한11글\".isalpha() False\n",
      "\n",
      "\"good\".isalnum() True\n",
      "\"123good\".isalnum() True\n",
      "\"한글\".isalnum() True\n",
      "\"한11글\".isalnum() True\n",
      "\n",
      "??!! 가 ?로 시작하나요? True\n",
      "??!! 가 ?로 끝나나요? False\n",
      "HongGilDong\n",
      "H*ngGulDong\n"
     ]
    }
   ],
   "source": [
    "# 예시\n",
    "# msg = 'good'\n",
    "# msg.split()\n",
    "# \"good\".split()\n",
    "\n",
    "# 대문자 변환\n",
    "good_upper = \"Good\".upper()\n",
    "print(good_upper)\n",
    "\n",
    "# 소문자 변환\n",
    "good_lower = \"Good\".lower()\n",
    "print(good_lower)\n",
    "\n",
    "# 모든 문자의 대문자 소문자 여부 검사후 결과 반환\n",
    "print(f\"{good_upper}대문자 여부 : {good_upper.isupper()}\")\n",
    "print(f\"{good_upper}소문자 여부 : {good_upper.islower()}\")\n",
    "\n",
    "print()\n",
    "# 숫자 판별기\n",
    "print('\"good\".isdecimal() {}'.format(\"good\".isdecimal()))\n",
    "print('\"1234\".isdecimal() {}'.format(\"1234\".isdecimal()))\n",
    "print('\"-1234\".isdecimal() {}'.format(\"-1234\".isdecimal()))\n",
    "\n",
    "print()\n",
    "# str이 문자로만 구성되어 있는지 검사 후 결과 반환 => isalpha()\n",
    "print('\"good\".isalpha() {}'.format(\"good\".isalpha()))\n",
    "print('\"123good\".isalpha() {}'.format(\"123good\".isalpha()))\n",
    "print('\"한글\".isalpha() {}'.format(\"한글\".isalpha()))\n",
    "print('\"한11글\".isalpha() {}'.format(\"한11글\".isalpha()))\n",
    "\n",
    "\n",
    "print()\n",
    "# str이 숫자문자로 구성되어 있는가 => isalnum()\n",
    "print('\"good\".isalnum() {}'.format(\"good\".isalnum()))\n",
    "print('\"123good\".isalnum() {}'.format(\"123good\".isalnum()))\n",
    "print('\"한글\".isalnum() {}'.format(\"한글\".isalnum()))\n",
    "print('\"한11글\".isalnum() {}'.format(\"한11글\".isalnum()))\n",
    "\n",
    "\n",
    "\n",
    "print()\n",
    "# str 문자의 시작에서 특정 문자로 시작하는 지 판별 후 결과반환 ==> .startswith(\"?\")\n",
    "print(f'??!! 가 ?로 시작하나요? {\"????\".startswith(\"?\")}')\n",
    "\n",
    "# str 문자의 끝 부분이 특정문자로 끝나나 ==> .endswith(\"?\")\n",
    "print(f'??!! 가 ?로 끝나나요? {\"??!!\".endswith(\"?\")}')\n",
    "\n",
    "# str 특정 인덱스의 문자를 변경해주는 메서드 ==> replace\n",
    "name = \"HongGulDong\"\n",
    "\n",
    "# name[5] = 'i'\n",
    "# str 객체는 인덱싱 방식으로 바꾸는 것을 지원하지 않음 >> 메서드를 지원해줌\n",
    "\n",
    "\n",
    "rename1 = name.replace(\"u\",\"i\")\n",
    "print(rename1)\n",
    "\n",
    "rename2 = name.replace(\"o\", \"*\", 1)\n",
    "print(rename2)\n",
    "\n",
    "\n",
    "\n"
   ]
  },
  {
   "cell_type": "code",
   "execution_count": 14,
   "metadata": {},
   "outputs": [
    {
     "name": "stdout",
     "output_type": "stream",
     "text": [
      "단어 somageimage.jpg가 알파벳으로만 이루어져 있는지 여부 = False\n",
      "단어 somageimage.jpg가 숫자로만 이루어져 있는지 여부 = False\n",
      "단어 somageimage.jpg가 모두 대문자로만 이루어져 있는지 여부 = False\n",
      "단어 somageimage.jpg가 모두 소문자로만 이루어져 있는지 여부 = True\n"
     ]
    }
   ],
   "source": [
    "# 실습1 단어를 입력 받은 후 아래 코드를 작성하세요\n",
    "# - 입력 받은 단어가 알파벳만으로 구성되어 있는지 검사\n",
    "# - 입력 받은 단어가 숫자만으로 구성되어 있는지 검사\n",
    "# - 입력 받은 단어가 모두 대문자로 구성되어 있는지 검사\n",
    "# - 입력 받은 단어가 모두 소문자로 구성되어 있는지 검사\n",
    "\n",
    "user = input(\"단어를 입력해주세요 : \")\n",
    "\n",
    "print(f\"단어 {user}가 알파벳으로만 이루어져 있는지 여부 = {user.isalpha()}\")\n",
    "print(f\"단어 {user}가 숫자로만 이루어져 있는지 여부 = {user.isnumeric()}\")\n",
    "print(f\"단어 {user}가 모두 대문자로만 이루어져 있는지 여부 = {user.isupper()}\")\n",
    "print(f\"단어 {user}가 모두 소문자로만 이루어져 있는지 여부 = {user.islower()}\")\n",
    "\n",
    "\n",
    "filename = input(\"파일명 입력 : \")\n"
   ]
  },
  {
   "cell_type": "code",
   "execution_count": 19,
   "metadata": {},
   "outputs": [
    {
     "name": "stdout",
     "output_type": "stream",
     "text": [
      "파일 eate.txt 의 텍스트 파일 여부 : True\n",
      "파일 eate.txt 의 이미지 파일 여부 : False\n",
      "파일 eate.txt 의 파이선 파일 여부 : False\n"
     ]
    }
   ],
   "source": [
    "# 실습2 파일명을 입력 받은 후 아래 코드를 작성하세요 : str 전용 메서드 활용\n",
    "# - 입력 받은 파일이 text 파일인지 검사하기 (확장자 : txt)\n",
    "# - 입력 받은 파일이 jpg 파일인지 검사하기  (확장자 : jpg)\n",
    "# - 입력 받은 파일이 py 파일인지 검사하기   (확장자 : py )\n",
    "\n",
    "filename = input(\"원하는 파일명을 입력해보세요 : \")\n",
    "\n",
    "try:\n",
    "    extension = filename.split()[-1]\n",
    "    print(\"파일 {} 의 텍스트 파일 여부 : {}\".format(filename, extension.count(\"txt\")>0))\n",
    "    print(\"파일 {} 의 이미지 파일 여부 : {}\".format(filename, extension.endswith(('jpg','png','jpeg','bmp'))))\n",
    "    print(\"파일 {} 의 파이선 파일 여부 : {}\".format(filename, extension.find(\"py\")>=0))   \n",
    "except:\n",
    "    print(\"파일 형식이 올바르지 않습니다.\")\n",
    "\n",
    "\n"
   ]
  },
  {
   "cell_type": "code",
   "execution_count": 36,
   "metadata": {},
   "outputs": [
    {
     "name": "stdout",
     "output_type": "stream",
     "text": [
      "data.index('C') => 6\n",
      "data.index('r') => 2\n",
      "\n",
      "data.index('r', 0) => 2\n",
      "data.index('r', data.index('r') + 1) => 3\n"
     ]
    }
   ],
   "source": [
    "data = \"Merry Christmas\"\n",
    "\n",
    "# .index() str 데이터에서 특정 문자의 인덱스를 반환하는 메서드 => index()\n",
    "\n",
    "\n",
    "print(f\"data.index('C') => {data.index('C')}\")\n",
    "print(f\"data.index('r') => {data.index('r')}\")\n",
    "\n",
    "\n",
    "print()\n",
    "print(f\"data.index('r', 0) => {data.index('r', 0)}\")\n",
    "print(f\"data.index('r', data.index('r') + 1) => {data.index('r', data.index('r')+ 1)}\")\n",
    "\n"
   ]
  },
  {
   "cell_type": "code",
   "execution_count": null,
   "metadata": {},
   "outputs": [],
   "source": []
  }
 ],
 "metadata": {
  "kernelspec": {
   "display_name": "py3_9",
   "language": "python",
   "name": "python3"
  },
  "language_info": {
   "codemirror_mode": {
    "name": "ipython",
    "version": 3
   },
   "file_extension": ".py",
   "mimetype": "text/x-python",
   "name": "python",
   "nbconvert_exporter": "python",
   "pygments_lexer": "ipython3",
   "version": "3.9.18"
  }
 },
 "nbformat": 4,
 "nbformat_minor": 2
}
