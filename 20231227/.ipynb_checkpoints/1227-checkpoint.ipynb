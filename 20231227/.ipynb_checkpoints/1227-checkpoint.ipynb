{
 "cells": [
  {
   "cell_type": "code",
   "execution_count": 10,
   "id": "initial_id",
   "metadata": {
    "collapsed": true,
    "ExecuteTime": {
     "end_time": "2023-12-27T00:34:51.702071200Z",
     "start_time": "2023-12-27T00:34:51.685710200Z"
    }
   },
   "outputs": [
    {
     "name": "stdout",
     "output_type": "stream",
     "text": [
      "Hello~\n"
     ]
    }
   ],
   "source": [
    "# 주석 커맨트\n",
    "# 코드에 설명하는 용도  >> 필수로 해주는 것이 좋음 단 간결하게\n",
    "# 프롬프트에 입력하여 직접 커맨드 입력 가능 \n",
    "# >>> \n",
    "\n",
    "print(\"Hello~\")\n"
   ]
  },
  {
   "cell_type": "markdown",
   "source": [
    "<p style=\"color:red;\"> 명령어 입력후 결과 확인 : 대화형 방식 </p>\n",
    "<p style=\"color:red;\"> 파일 작성후 실행하는 방식: 스크립트 방식 </p>\n"
   ],
   "metadata": {
    "collapsed": false
   },
   "id": "38938dca3662a551"
  },
  {
   "cell_type": "code",
   "execution_count": 12,
   "outputs": [],
   "source": [
    "# 종료 명령어\n",
    "exit()\n"
   ],
   "metadata": {
    "collapsed": false,
    "ExecuteTime": {
     "end_time": "2023-12-27T00:42:17.007708800Z",
     "start_time": "2023-12-27T00:42:16.989569800Z"
    }
   },
   "id": "e099df54165e7229"
  },
  {
   "cell_type": "markdown",
   "source": [
    "<h2>코딩 컨밴션</h2>\n",
    "\n",
    "<li>들여쓰기(Indentation)는 공백 4칸을 권장\n",
    "<li>한 줄은 최대 79자까지\n",
    "<li>클래스 내의 메소드 정의는 1줄 씩 띄어쓰기\n",
    "<li>주석은 항상 갱신, 불필요한 주석은 삭제\n",
    "<li>소문자 L, 대문자 O, 대문자 I는 변수명으로 사용하지 말 것 (가독성) (권장사항)\n",
    "<li>함수명은 소문자로 구성, 필요하면 밑줄로 나눔</li>\n",
    "\n",
    "<h2> 주석 작성 방법 </h2>\n",
    "<li> '''''' 로 작성"
   ],
   "metadata": {
    "collapsed": false
   },
   "id": "489e76c400df1220"
  },
  {
   "cell_type": "code",
   "execution_count": 2,
   "outputs": [
    {
     "data": {
      "text/plain": "'\\n쌍따움표도 주석 작성가능\\n'"
     },
     "execution_count": 2,
     "metadata": {},
     "output_type": "execute_result"
    }
   ],
   "source": [
    "'''\n",
    "여러줄 주석 작성 방식\n",
    "IDE를 이용하면 편하지만 알고 있으면 좋음\n",
    "'''\n",
    "\"\"\"\n",
    "쌍따움표도 주석 작성가능\n",
    "\"\"\""
   ],
   "metadata": {
    "collapsed": false,
    "ExecuteTime": {
     "end_time": "2023-12-27T00:51:17.792376300Z",
     "start_time": "2023-12-27T00:51:17.779951600Z"
    }
   },
   "id": "b44bbb5c7c75874a"
  },
  {
   "cell_type": "code",
   "execution_count": null,
   "outputs": [],
   "source": [],
   "metadata": {
    "collapsed": false
   },
   "id": "764ad1c001291300"
  }
 ],
 "metadata": {
  "kernelspec": {
   "display_name": "Python 3",
   "language": "python",
   "name": "python3"
  },
  "language_info": {
   "codemirror_mode": {
    "name": "ipython",
    "version": 2
   },
   "file_extension": ".py",
   "mimetype": "text/x-python",
   "name": "python",
   "nbconvert_exporter": "python",
   "pygments_lexer": "ipython2",
   "version": "2.7.6"
  }
 },
 "nbformat": 4,
 "nbformat_minor": 5
}
