{
 "cells": [
  {
   "cell_type": "code",
   "execution_count": 1,
   "metadata": {
    "ExecuteTime": {
     "end_time": "2024-01-03T00:35:22.495705600Z",
     "start_time": "2024-01-03T00:35:22.477138500Z"
    }
   },
   "outputs": [],
   "source": [
    "msg = \"Happy New Year\"\n",
    "\n",
    "# 아래 코드는 패킹의 예시\n",
    "msgList = msg.split()\n",
    "\n",
    "# 다음 코드는 언패킹의 예시\n",
    "m1, m2, m3 = msgList\n",
    "# 패킹의 경우 변수와 패킹된 값의 갯수가 일치해야함\n",
    "# 만족하지 않을 경우 에러\n",
    "\n",
    "age = 12\n",
    "name = \"Hong\"\n",
    "job = \"학생\"\n",
    "\n",
    "age1, name1, job1 = 15, \"Kim\", \"중딩\"\n",
    "# 해당 코드는 아래의 튜플을 언패킹 한 것임\n",
    "\n",
    "info = ( 15, \"Kim\", \"중딩\")\n"
   ]
  },
  {
   "cell_type": "code",
   "execution_count": 10,
   "metadata": {
    "ExecuteTime": {
     "end_time": "2024-01-03T00:52:03.762031600Z",
     "start_time": "2024-01-03T00:52:03.740837900Z"
    }
   },
   "outputs": [
    {
     "name": "stdout",
     "output_type": "stream",
     "text": [
      "실행할 코드\n",
      "거짓실행코드\n",
      "참\n",
      "nested 조건문: 내부조건까지 참\n"
     ]
    }
   ],
   "source": [
    "# if문 연습하기\n",
    "# 단순조건문 문법 \n",
    "if True or False:\n",
    "    print(\"실행할 코드\")\n",
    "\n",
    "# 단순 조건문 (2) 조건이 True인 경우 / False 인 경우 처리하는 조건문\n",
    "if False and True:\n",
    "    print(\"실행코드\")\n",
    "else:\n",
    "    print(\"거짓실행코드\")\n",
    "    \n",
    "# 복잡 조건문 (다중조건문)\n",
    "if True:\n",
    "    print(\"참\")\n",
    "elif True:\n",
    "    print(\"다른 참\")\n",
    "elif True:\n",
    "    print(\"다른 참\")\n",
    "elif True:\n",
    "    print(\"다른 참\")\n",
    "else:\n",
    "    print(\"거짓\")\n",
    "\n",
    "# 복잡 조건문 2 (조건문 속 조건 문) => 중첩 조건문\n",
    "\n",
    "if True:\n",
    "    if True:\n",
    "        print(\"nested 조건문: 내부조건까지 참\")\n",
    "    else:\n",
    "        print(\"참이지만 내부거짓\")\n",
    "else:\n",
    "    print(\"완전히 거짓\")\n",
    "\n",
    "\n",
    "\n"
   ]
  },
  {
   "cell_type": "code",
   "execution_count": null,
   "outputs": [],
   "source": [],
   "metadata": {
    "collapsed": false
   }
  }
 ],
 "metadata": {
  "kernelspec": {
   "display_name": "py3_9",
   "language": "python",
   "name": "python3"
  },
  "language_info": {
   "codemirror_mode": {
    "name": "ipython",
    "version": 3
   },
   "file_extension": ".py",
   "mimetype": "text/x-python",
   "name": "python",
   "nbconvert_exporter": "python",
   "pygments_lexer": "ipython3",
   "version": "3.9.18"
  }
 },
 "nbformat": 4,
 "nbformat_minor": 2
}
