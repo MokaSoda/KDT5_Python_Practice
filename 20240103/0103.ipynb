{
 "cells": [
  {
   "cell_type": "code",
   "execution_count": 1,
   "metadata": {
    "ExecuteTime": {
     "end_time": "2024-01-03T00:35:22.495705600Z",
     "start_time": "2024-01-03T00:35:22.477138500Z"
    }
   },
   "outputs": [],
   "source": [
    "msg = \"Happy New Year\"\n",
    "\n",
    "# 아래 코드는 패킹의 예시\n",
    "msgList = msg.split()\n",
    "\n",
    "# 다음 코드는 언패킹의 예시\n",
    "m1, m2, m3 = msgList\n",
    "# 패킹의 경우 변수와 패킹된 값의 갯수가 일치해야함\n",
    "# 만족하지 않을 경우 에러\n",
    "\n",
    "age = 12\n",
    "name = \"Hong\"\n",
    "job = \"학생\"\n",
    "\n",
    "age1, name1, job1 = 15, \"Kim\", \"중딩\"\n",
    "# 해당 코드는 아래의 튜플을 언패킹 한 것임\n",
    "\n",
    "info = ( 15, \"Kim\", \"중딩\")\n"
   ]
  },
  {
   "cell_type": "code",
   "execution_count": 10,
   "metadata": {
    "ExecuteTime": {
     "end_time": "2024-01-03T00:52:03.762031600Z",
     "start_time": "2024-01-03T00:52:03.740837900Z"
    }
   },
   "outputs": [
    {
     "name": "stdout",
     "output_type": "stream",
     "text": [
      "실행할 코드\n",
      "거짓실행코드\n",
      "참\n",
      "nested 조건문: 내부조건까지 참\n"
     ]
    }
   ],
   "source": [
    "# if문 연습하기\n",
    "# 단순조건문 문법 \n",
    "if True or False:\n",
    "    print(\"실행할 코드\")\n",
    "\n",
    "# 단순 조건문 (2) 조건이 True인 경우 / False 인 경우 처리하는 조건문\n",
    "if False and True:\n",
    "    print(\"실행코드\")\n",
    "else:\n",
    "    print(\"거짓실행코드\")\n",
    "    \n",
    "# 복잡 조건문 (다중조건문)\n",
    "if True:\n",
    "    print(\"참\")\n",
    "elif True:\n",
    "    print(\"다른 참\")\n",
    "elif True:\n",
    "    print(\"다른 참\")\n",
    "elif True:\n",
    "    print(\"다른 참\")\n",
    "else:\n",
    "    print(\"거짓\")\n",
    "\n",
    "# 복잡 조건문 2 (조건문 속 조건 문) => 중첩 조건문\n",
    "\n",
    "if True:\n",
    "    if True:\n",
    "        print(\"nested 조건문: 내부조건까지 참\")\n",
    "    else:\n",
    "        print(\"참이지만 내부거짓\")\n",
    "else:\n",
    "    print(\"완전히 거짓\")\n",
    "\n"
   ]
  },
  {
   "cell_type": "markdown",
   "metadata": {
    "collapsed": false
   },
   "source": [
    "조건부 표현식"
   ]
  },
  {
   "cell_type": "code",
   "execution_count": 21,
   "metadata": {
    "ExecuteTime": {
     "end_time": "2024-01-03T01:24:44.890603100Z",
     "start_time": "2024-01-03T01:24:44.870379600Z"
    },
    "collapsed": false
   },
   "outputs": [
    {
     "name": "stdout",
     "output_type": "stream",
     "text": [
      "-1 = 홀수\n",
      "-1 음수\n"
     ]
    }
   ],
   "source": [
    "# 조건부 표현식 ===> (5) 1줄 조건문\n",
    "# 조건 True 인 경우 실행될 코드 if 조건식 else 조건이 False 일때\n",
    "# 홀수와 짝수 식별 후 결과 출력하는 코드\n",
    "num = 27\n",
    "\n",
    "print(f\"{num} = 홀수\") if num % 2  == 1 else print(\"%s = 짝수\"%num)\n",
    "\n",
    "result_홀짝 = \"홀수\" if num % 2 == 1 else  \"짝수\"\n",
    "\n",
    "if num > 0 :\n",
    "    print(f\"{num} 양수\")\n",
    "elif num < 0:\n",
    "    print(f\"{num} 음수\")\n",
    "else:\n",
    "    print(\"영\")\n",
    "    \n",
    "# 위 구문을 아래 같이 한줄로 표현가능\n",
    "# 다만 조건이 길어질 경우 가독성이 떨어짐\n",
    "\n",
    "result_정수구분 = \"양수\" if num > 0 else \"음수\" if num < 0 else '영'\n",
    "\n"
   ]
  },
  {
   "cell_type": "markdown",
   "metadata": {},
   "source": [
    "<h3> for 구문 연습해보기"
   ]
  },
  {
   "cell_type": "code",
   "execution_count": 20,
   "metadata": {
    "collapsed": false
   },
   "outputs": [
    {
     "name": "stdout",
     "output_type": "stream",
     "text": [
      "2468101214161820222426283032343638404244464850525456586062646668707274767880828486889092949698100 <class 'str'>\n"
     ]
    }
   ],
   "source": [
    "# 1~100 범위에서 2의 배수에 해당하는 정수로 리스트 작성\n",
    "\n",
    "multiply2 = list(range(2,101,2))\n",
    "\n",
    "\n",
    "# --------------------------------------------------------------------------------\n",
    "# 246810121416182022.....100\n",
    "# result = str(multiply2)\n",
    "# print(result)\n",
    "# multiply2_str = list(map(str, multiply2))\n",
    "# 시퀀스 데이터 타입에서 원소/요소를 하나씩 빼서 반복코드 수행 => for in 반복문\n",
    "# --------------------------------------------------------------------------------\n",
    "\n",
    "result_list_2배수 = []\n",
    "strnum = ''\n",
    "for x in multiply2:\n",
    "    strnum += str(x)\n",
    "print(strnum, type(strnum))\n",
    "\n",
    "# 리스트 안에 모든 원소를 str 타입으로 변환해서 저장\n",
    "for x in range(len(multiply2)):\n",
    "    multiply2[x] = str(multiply2[x]) # type: ignore\n",
    "\n",
    "\n",
    "# 리스트 안에 모든 원소를 str 타입으로 변환해서 저장\n"
   ]
  },
  {
   "cell_type": "code",
   "execution_count": 31,
   "metadata": {},
   "outputs": [
    {
     "name": "stdout",
     "output_type": "stream",
     "text": [
      "H  a  p  p  y     N  e  w     Y  e  a  r     2  0  2  4  !     G  o  o  d     L  u  c  k  !  Hello World! 0 Hello World! 1 Hello World! 2 Hello World! 3 Hello World! 4 Hello World! 5 Hello World! 6 Hello World! 7 Hello World! 8 Hello World! 9 Hello World! 10 Hello World! 11 Hello World! 12 Hello World! 13 Hello World! 14 Hello World! 15 Hello World! 16 Hello World! 17 Hello World! 18 Hello World! 19 Hello World! 20 Hello World! 21 Hello World! 22 Hello World! 23 Hello World! 24 Hello World! 25 Hello World! 26 Hello World! 27 Hello World! 28 Hello World! 29 Hello World! 30 Hello World! 31 Hello World! 32 Hello World! 33 Hello World! 34 Hello World! 35 Hello World! 36 Hello World! 37 Hello World! 38 Hello World! 39 Hello World! 40 Hello World! 41 Hello World! 42 Hello World! 43 Hello World! 44 Hello World! 45 Hello World! 46 Hello World! 47 Hello World! 48 Hello World! 49 Hello World! 50 Hello World! 51 Hello World! 52 Hello World! 53 Hello World! 54 Hello World! 55 Hello World! 56 Hello World! 57 Hello World! 58 Hello World! 59 Hello World! 60 Hello World! 61 Hello World! 62 Hello World! 63 Hello World! 64 Hello World! 65 Hello World! 66 Hello World! 67 Hello World! 68 Hello World! 69 Hello World! 70 Hello World! 71 Hello World! 72 Hello World! 73 Hello World! 74 Hello World! 75 Hello World! 76 Hello World! 77 Hello World! 78 Hello World! 79 Hello World! 80 Hello World! 81 Hello World! 82 Hello World! 83 Hello World! 84 Hello World! 85 Hello World! 86 Hello World! 87 Hello World! 88 Hello World! 89 Hello World! 90 Hello World! 91 Hello World! 92 Hello World! 93 Hello World! 94 Hello World! 95 Hello World! 96 Hello World! 97 Hello World! 98 Hello World! 99 "
     ]
    }
   ],
   "source": [
    "# 실습1 Hello World 100번 출력\n",
    "# 반복문 => for in 반복문 ====\n",
    "# 여러개의 데이터를 가지고 있는 데이터에서 한 개씩 원소/요소를\n",
    "# 읽어와줌\n",
    "\n",
    "# for 요소저장변수명 in 여러개 데이터 가진 타입:\n",
    "#   여소/원소 반보갛ㄹ 코드\n",
    "#   요소/원소 반복할 코드\n",
    "# ----------------------------------------------------------\n",
    "\n",
    "msg = 'Happy New Year 2024! Good Luck!'\n",
    "\n",
    "# msg 를 구성하는 문자 한개씩 화면에 한줄에 한개씩 출력\n",
    "for x in msg:\n",
    "    print(x, end=\"  \")\n",
    "\n",
    "for x in range(100):\n",
    "    print('Hello World! %s'%x, end=\" \")\n",
    "\n"
   ]
  },
  {
   "cell_type": "code",
   "execution_count": 32,
   "metadata": {},
   "outputs": [
    {
     "name": "stdout",
     "output_type": "stream",
     "text": [
      "paste pastry pie pizza plate pot poutine pudding queso raclette recipe rice salad salsa sandwich sauce seasoning skillet soda sopapillas soup soy spice steak "
     ]
    }
   ],
   "source": [
    "# 좋아하는 음식명을 리스트에 저장하기 (단, 10개 이상)',\n",
    "food = ['paste',\n",
    "'pastry',\n",
    "'pie',\n",
    "'pizza',\n",
    "'plate',\n",
    "'pot',\n",
    "'poutine',\n",
    "'pudding',\n",
    "'queso',\n",
    "'raclette',\n",
    "'recipe',\n",
    "'rice',\n",
    "'salad',\n",
    "'salsa',\n",
    "'sandwich',\n",
    "'sauce',\n",
    "'seasoning',\n",
    "'skillet',\n",
    "'soda',\n",
    "'sopapillas',\n",
    "'soup',\n",
    "'soy',\n",
    "'spice',\n",
    "'steak']\n",
    "\n",
    "for x in food:\n",
    "    print(x, end=\" \")"
   ]
  },
  {
   "cell_type": "code",
   "execution_count": 61,
   "metadata": {},
   "outputs": [
    {
     "name": "stdout",
     "output_type": "stream",
     "text": [
      "datadict : {'a': 1.2, 'b': 2.3, 'c': 3.4, 'd': 4.5, 'e': 5.6}\n"
     ]
    }
   ],
   "source": [
    "# -- 문자열 여러 개 실수 여러개 입력 \n",
    "# 첫번 쨰 입력 키\n",
    "# 두번쨰 입력 받은 값은 Value\n",
    "# 딕셔너리로 입력\n",
    "\n",
    "user = input(\"다음과 같이 입력하세요 예시) a b c d e, 1.2 2.3 3.4 4.5 5.6\")\n",
    "dict_final = {}\n",
    "\n",
    "if \",\" in user:\n",
    "    user = user.split(\",\")\n",
    "    key, value = user[0].split(), list(map(float,user[1].split()))\n",
    "    if len(key) == len(value):\n",
    "        # for x in range(len(key)):\n",
    "        #     dict_final.update({key[x]:float(value[x])})\n",
    "        dict_final = dict(zip(key,value))\n",
    "        print(\"datadict : %s\"%dict_final)\n",
    "    else:\n",
    "        print(\"원소의 갯수가 서로 일치하지 않습니다.\")\n",
    "else:\n",
    "    print(\"형식이 올바르지 않습니다.\")\n",
    "\n",
    "\n"
   ]
  },
  {
   "cell_type": "code",
   "execution_count": 60,
   "metadata": {},
   "outputs": [
    {
     "name": "stdout",
     "output_type": "stream",
     "text": [
      "<zip object at 0x000001F47E541DC0> <class 'zip'> [(1, 11, 111), (2, 22, 222), (3, 33, 333), (4, 44, 444)]\n",
      "{1: 11, 2: 22, 3: 33, 4: 44}\n"
     ]
    }
   ],
   "source": [
    "x = list(range(1,6))\n",
    "y = [x * 11 for x in range(1,5)]\n",
    "z = [x * 111 for x in range(1,5)]\n",
    "\n",
    "result = zip(x,y,z)\n",
    "print(result, type(result), list(result))\n",
    "print(dict(zip(x,y)))"
   ]
  },
  {
   "cell_type": "code",
   "execution_count": 63,
   "metadata": {},
   "outputs": [
    {
     "name": "stdout",
     "output_type": "stream",
     "text": [
      "1\n",
      "3\n",
      "5\n",
      "7\n"
     ]
    }
   ],
   "source": [
    "# 반복문과 내장함수\n",
    "# 시퀀스 or Iterable 가능한 객체의 여소/원소에 적용 후 값을 다시 저장해야 하는 경우\n",
    "# 자주 사용되는 기능으로 내장함수로 제공 ==> map()\n",
    "# - 문법 map(함수명, iterable객체)\n",
    "# int 요소인 xList를 str요소로 변환\n",
    "\n",
    "xList = [str(x) for x in range(1,8,2)]\n",
    "xListint = list(map(int,xList))\n",
    "\n",
    "\n",
    "\n"
   ]
  },
  {
   "cell_type": "code",
   "execution_count": null,
   "metadata": {},
   "outputs": [],
   "source": []
  }
 ],
 "metadata": {
  "kernelspec": {
   "display_name": "py3_9",
   "language": "python",
   "name": "python3"
  },
  "language_info": {
   "codemirror_mode": {
    "name": "ipython",
    "version": 3
   },
   "file_extension": ".py",
   "mimetype": "text/x-python",
   "name": "python",
   "nbconvert_exporter": "python",
   "pygments_lexer": "ipython3",
   "version": "3.11.5"
  }
 },
 "nbformat": 4,
 "nbformat_minor": 2
}
