{
 "cells": [
  {
   "cell_type": "markdown",
   "metadata": {},
   "source": [
    "# while 반복문"
   ]
  },
  {
   "cell_type": "markdown",
   "metadata": {},
   "source": [
    "#### 1줄 조건문 활용"
   ]
  },
  {
   "cell_type": "code",
   "execution_count": 25,
   "metadata": {},
   "outputs": [
    {
     "name": "stdout",
     "output_type": "stream",
     "text": [
      "아다아은 생략됩니다. \"끝\"을 입력하여 종료하세요\n",
      "아마낭은 생략됩니다. \"끝\"을 입력하여 종료하세요\n",
      "은 생략됩니다. \"끝\"을 입력하여 종료하세요\n",
      "당신은 가나다, 라아만, 아자다, 마나아, 다아아 음식을 좋아합니다.\n"
     ]
    }
   ],
   "source": [
    "'''\n",
    "반복문 - 2 while 반복문\n",
    "- 반복의 횟수가 정해지지 않은 경우에 사용\n",
    "- 반복의 횟수가 정해진 경우에도 사용 가능함\n",
    "[요청] 사용자로 부터 좋아하는 음식명을 입력받아 주세요\n",
    "단 사용자가 끝이라는 음식명 입력 전까지 입벽 받으세요\n",
    "'''\n",
    "\n",
    "food = ''\n",
    "foods = []\n",
    "result_str = ''\n",
    "while food != \"끝\":\n",
    "    def breaker(food_ignored):\n",
    "        print(food_ignored,'은 생략됩니다. \"끝\"을 입력하여 종료하세요', sep=\"\") if food_ignored != \"끝\" else \"\"\n",
    "    def valid_food(food_tmp):\n",
    "        foods.append(food_tmp)\n",
    "    food = input(\"좋아하는 음식 5개 입력하세요. \\n 이후 음식은 생략됩니다.\\n '끝'을 입력하여 종료하세요\")\n",
    "    valid_food(food) if food != \"끝\" and len(foods) < 5 and not food.isdecimal() and food.isalpha() else breaker(food)\n",
    "    \n",
    "\n",
    "print(\"당신은 \", end=\"\")\n",
    "for x in foods:\n",
    "    print(x, end=\", \" if foods.index(x) != len(foods)-1 else \" 음식을 \")\n",
    "print(\"좋아합니다.\")\n"
   ]
  },
  {
   "cell_type": "code",
   "execution_count": 21,
   "metadata": {},
   "outputs": [],
   "source": [
    "food = ''\n",
    "foods = []\n",
    "\n",
    "for i in range(5):\n",
    "    food = input(\"좋아하는 음식 %s가지 입력하세요. \\n 5가지 이후 자동종료됩니다. \\n '끝'을 입력하여 종료하세요\"%(i+1))\n",
    "    foods.append(food)\n",
    "\n"
   ]
  },
  {
   "cell_type": "code",
   "execution_count": 27,
   "metadata": {},
   "outputs": [
    {
     "name": "stdout",
     "output_type": "stream",
     "text": [
      "디버깅\n"
     ]
    }
   ],
   "source": [
    "# 플래그 변수 사용\n",
    "DEBUG = True\n",
    "\n",
    "if DEBUG:\n",
    "    print(\"디버깅\")\n",
    "\n"
   ]
  },
  {
   "cell_type": "markdown",
   "metadata": {},
   "source": [
    "#### 복합연산자"
   ]
  },
  {
   "cell_type": "code",
   "outputs": [],
   "source": [
    "# 기본 while 문법\n",
    "# while 조건식:\n",
    "# <--> 실행코드\n",
    "# <--> 실행코드\n",
    "\n",
    "downCnt = 10\n",
    "\n",
    "while downCnt > 0:\n",
    "    print(\"다운 카운팅 : %+3s\"%downCnt)\n",
    "    downCnt -= 1 # 복합연산자 -= += /= ......\n"
   ],
   "metadata": {
    "collapsed": false
   }
  },
  {
   "cell_type": "code",
   "outputs": [],
   "source": [
    "upCnt = 1\n",
    "\n",
    "while upCnt <=10:\n",
    "    print(\"업 카운팅 : %3s\"%upCnt)\n",
    "    upCnt += 1\n",
    "\n"
   ],
   "metadata": {
    "collapsed": false
   }
  },
  {
   "cell_type": "code",
   "outputs": [],
   "source": [
    "# [요청] 사용자로 부터 x나 X를 입력하기 전 까지 계속 정수를 입력받음\n",
    "# 이후 입력받은 정수만큼 알파벳을 출력\n",
    "# eg) 출력 원하는 알파벳 수 입력 : 5\n",
    "#      abcde\n",
    "#     출력원하는 알파벳 : 10\n",
    "#     abcdefgijk\n",
    "#     출력원하는 알파벳 :27\n",
    "#     모두 출력 후 종료\n",
    "\n",
    "idx = 97\n",
    "while 1:\n",
    "    end = (input(\"출력 원하는 알파벳 갯수 \"))\n",
    "    if end in (\"x\", \"X\"):\n",
    "        print(\"프로그램이 종료됩니다.\")\n",
    "        break\n",
    "    elif not end.isdecimal():\n",
    "        print(\"숫자가 아닌 값이 입력되었습니다.\")\n",
    "    elif int(end) <= 0:\n",
    "        print(\"갯수가 올바르지 않습니다.\")\n",
    "    else:\n",
    "        end = ord(\"z\")+1 if int(end) + idx > ord(\"z\")+1 else (int(end) + idx)\n",
    "        result = ''\n",
    "        # for x in range(idx, end):\n",
    "        #     result += (chr(x) + \" \") if (x != end-1) else chr(x)\n",
    "        x = idx\n",
    "        while x < end:\n",
    "            result += (chr(x) + \" \") if (x != end-1) else chr(x)\n",
    "            x += 1\n",
    "        print(result.upper())\n",
    "    \n",
    "    \n"
   ],
   "metadata": {
    "collapsed": false
   }
  },
  {
   "cell_type": "markdown",
   "source": [
    "#### 중첩 반복문의 종료 방법"
   ],
   "metadata": {
    "collapsed": false
   }
  },
  {
   "cell_type": "code",
   "outputs": [],
   "source": [
    "# while 구문 안에 식을 넣는 방법\n",
    "isEnd = 0\n",
    "n = 0\n",
    "while n < 100:\n",
    "    if isEnd:\n",
    "        print(\"종료됨 \")\n",
    "        break\n",
    "    print(f\"out => {n}\")\n",
    "    n2 = 0\n",
    "    while n2 < 100:\n",
    "        if n2 > 10:\n",
    "            isEnd = 1\n",
    "            break\n",
    "        print(f\"in => {n2} ===> {n2}번쨰\")\n",
    "        n2 += 1\n",
    "    n += 1"
   ],
   "metadata": {
    "collapsed": false
   }
  },
  {
   "cell_type": "code",
   "outputs": [],
   "source": [
    "# while 구문이 항상 참일 경우\n",
    "isEnd = 0\n",
    "n = 0\n",
    "while True:\n",
    "    if n < 100:\n",
    "        if isEnd:\n",
    "            print(\"종료됨 \")\n",
    "            break\n",
    "        print(f\"out => {n}\")\n",
    "        n2 = 0\n",
    "        while True:\n",
    "            if n2 < 100:\n",
    "                if n2 > 10:\n",
    "                    isEnd = 1\n",
    "                    break\n",
    "                print(f\"in => {n2} ===> {n2}번쨰\")\n",
    "                n2 += 1\n",
    "            else:\n",
    "                break\n",
    "        n += 1\n",
    "    else:\n",
    "        break"
   ],
   "metadata": {
    "collapsed": false
   }
  },
  {
   "cell_type": "markdown",
   "source": [
    "#### continue 구문"
   ],
   "metadata": {
    "collapsed": false
   }
  },
  {
   "cell_type": "code",
   "outputs": [],
   "source": [
    "# continue => 계속해서~\n",
    "\n",
    "numList = list(range(1,31))\n",
    "\n",
    "for data in numList:\n",
    "    print(data) if data % 2 == 1 else \"\"\n",
    "\n",
    "for data in numList:\n",
    "    if data % 2:\n",
    "        continue\n",
    "        # 이후 print를 진행하지 않고 바로 for 제어문으로 이동함\n",
    "    print(data)\n",
    "    \n",
    "\n"
   ],
   "metadata": {
    "collapsed": false
   }
  },
  {
   "cell_type": "code",
   "outputs": [],
   "source": [
    "# continue => 계속해서~\n",
    "# 위 구문을 while 구문으로 변경\n",
    "\n",
    "numList = list(range(1,31))\n",
    "numidx = len(numList)\n",
    "idx = 0\n",
    "# \n",
    "# while idx < numidx:\n",
    "#     print(numList[idx]) if numList[idx] % 2 == 0 else \"\"\n",
    "#     idx += 1\n",
    "\n",
    "# 인덱스는 기본적으로 while의 첫구문에 증가시키는 것이 맞음\n",
    "# 다만 이 경우 인덱스에 맞춰서 각종 관련 값들을 튜닝시켜주는 것이 필요함\n",
    "idx = -1\n",
    "while idx < numidx -1:\n",
    "    idx += 1\n",
    "    if numList[idx] % 2:\n",
    "        continue\n",
    "        # continue 실행시 아래 구문이 실행되지 않으므로 여기에도 인덱스를 증가시키거나 항상 인덱스가 증가하도록 대체\n",
    "    print(numList[idx],\"는 %s 번쨰 값\"%(idx+1))\n",
    "\n",
    "\n",
    "# for data in numList:\n",
    "#     if data % 2:\n",
    "#         continue\n",
    "#         이후 print를 진행하지 않고 바로 for 제어문으로 이동함\n",
    "#     print(data)\n",
    "    "
   ],
   "metadata": {
    "collapsed": false
   }
  },
  {
   "cell_type": "markdown",
   "source": [
    "#### pass 구분의 활용법\n",
    "아무것도 하지 않고 로직의 변경도 일어나지 않음\n",
    "해당 키워드는 파이선 문법 떄문에 사용함\n",
    "코드를 어떻게 짜야할 지 정해지지 않음\n",
    "\n",
    "\n"
   ],
   "metadata": {
    "collapsed": false
   }
  },
  {
   "cell_type": "code",
   "outputs": [],
   "source": [
    "num = 100\n",
    "# if num > 10:\n",
    "# \n",
    "# 해당 구문에서 만약 아무런 명령어가 없을 경우 오류 발생\n",
    "if num > 10:\n",
    "    pass\n",
    "# 이렇게 키워드를 추가하여 해결 해 줄 수 있음\n",
    "# if 조건문, for ~ in 반복문, while 반복문에서\n",
    "# 실행코드 부분이 없는 경우에 사용함\n",
    "# 아직 문제 해결 방법 정해지지 않음을 나타냄!\n",
    "num = 100\n",
    "if num > 10:\n",
    "    pass\n",
    "age = 30\n",
    "\n",
    "for n in range(10):\n",
    "    pass\n",
    "\n",
    "print(\"그냥\")"
   ],
   "metadata": {
    "collapsed": false
   }
  },
  {
   "cell_type": "code",
   "outputs": [],
   "source": [],
   "metadata": {
    "collapsed": false
   }
  }
 ],
 "metadata": {
  "kernelspec": {
   "display_name": "base",
   "language": "python",
   "name": "python3"
  },
  "language_info": {
   "codemirror_mode": {
    "name": "ipython",
    "version": 3
   },
   "file_extension": ".py",
   "mimetype": "text/x-python",
   "name": "python",
   "nbconvert_exporter": "python",
   "pygments_lexer": "ipython3",
   "version": "3.9.18"
  }
 },
 "nbformat": 4,
 "nbformat_minor": 2
}
