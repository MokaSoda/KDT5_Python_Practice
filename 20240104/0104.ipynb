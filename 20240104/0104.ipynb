{
 "cells": [
  {
   "cell_type": "markdown",
   "metadata": {},
   "source": [
    "# while 반복문"
   ]
  },
  {
   "cell_type": "markdown",
   "metadata": {},
   "source": [
    "#### 1줄 조건문 활용"
   ]
  },
  {
   "cell_type": "code",
   "execution_count": 25,
   "metadata": {},
   "outputs": [
    {
     "name": "stdout",
     "output_type": "stream",
     "text": [
      "아다아은 생략됩니다. \"끝\"을 입력하여 종료하세요\n",
      "아마낭은 생략됩니다. \"끝\"을 입력하여 종료하세요\n",
      "은 생략됩니다. \"끝\"을 입력하여 종료하세요\n",
      "당신은 가나다, 라아만, 아자다, 마나아, 다아아 음식을 좋아합니다.\n"
     ]
    }
   ],
   "source": [
    "'''\n",
    "반복문 - 2 while 반복문\n",
    "- 반복의 횟수가 정해지지 않은 경우에 사용\n",
    "- 반복의 횟수가 정해진 경우에도 사용 가능함\n",
    "[요청] 사용자로 부터 좋아하는 음식명을 입력받아 주세요\n",
    "단 사용자가 끝이라는 음식명 입력 전까지 입벽 받으세요\n",
    "'''\n",
    "\n",
    "food = ''\n",
    "foods = []\n",
    "result_str = ''\n",
    "while food != \"끝\":\n",
    "    def breaker(food_ignored):\n",
    "        print(food_ignored,'은 생략됩니다. \"끝\"을 입력하여 종료하세요', sep=\"\") if food_ignored != \"끝\" else \"\"\n",
    "    def valid_food(food_tmp):\n",
    "        foods.append(food_tmp)\n",
    "    food = input(\"좋아하는 음식 5개 입력하세요. \\n 이후 음식은 생략됩니다.\\n '끝'을 입력하여 종료하세요\")\n",
    "    valid_food(food) if food != \"끝\" and len(foods) < 5 and not food.isdecimal() and food.isalpha() else breaker(food)\n",
    "    \n",
    "\n",
    "print(\"당신은 \", end=\"\")\n",
    "for x in foods:\n",
    "    print(x, end=\", \" if foods.index(x) != len(foods)-1 else \" 음식을 \")\n",
    "print(\"좋아합니다.\")\n"
   ]
  },
  {
   "cell_type": "code",
   "execution_count": 21,
   "metadata": {},
   "outputs": [],
   "source": [
    "food = ''\n",
    "foods = []\n",
    "\n",
    "for i in range(5):\n",
    "    food = input(\"좋아하는 음식 %s가지 입력하세요. \\n 5가지 이후 자동종료됩니다. \\n '끝'을 입력하여 종료하세요\"%(i+1))\n",
    "    foods.append(food)\n",
    "\n"
   ]
  },
  {
   "cell_type": "code",
   "execution_count": 27,
   "metadata": {},
   "outputs": [
    {
     "name": "stdout",
     "output_type": "stream",
     "text": [
      "디버깅\n"
     ]
    }
   ],
   "source": [
    "# 플래그 변수 사용\n",
    "DEBUG = True\n",
    "\n",
    "if DEBUG:\n",
    "    print(\"디버깅\")\n",
    "\n"
   ]
  },
  {
   "cell_type": "markdown",
   "metadata": {},
   "source": [
    "#### 복합연산자"
   ]
  },
  {
   "cell_type": "code",
   "execution_count": 32,
   "metadata": {},
   "outputs": [
    {
     "name": "stdout",
     "output_type": "stream",
     "text": [
      "다운 카운팅 : 10\n",
      "다운 카운팅 : 9\n",
      "다운 카운팅 : 8\n",
      "다운 카운팅 : 7\n",
      "다운 카운팅 : 6\n",
      "다운 카운팅 : 5\n",
      "다운 카운팅 : 4\n",
      "다운 카운팅 : 3\n",
      "다운 카운팅 : 2\n",
      "다운 카운팅 : 1\n"
     ]
    }
   ],
   "source": [
    "# 기본 while 문법\n",
    "# while 조건식:\n",
    "# <--> 실행코드\n",
    "# <--> 실행코드\n",
    "\n",
    "downCnt = 10\n",
    "\n",
    "while downCnt > 0:\n",
    "    print(\"다운 카운팅 : %s\"%downCnt)\n",
    "    downCnt -= 1 # 복합연산자 -= += /= ......\n"
   ]
  },
  {
   "cell_type": "code",
   "execution_count": 36,
   "metadata": {},
   "outputs": [
    {
     "name": "stdout",
     "output_type": "stream",
     "text": [
      "업 카운팅 :   1\n",
      "업 카운팅 :   2\n",
      "업 카운팅 :   3\n",
      "업 카운팅 :   4\n",
      "업 카운팅 :   5\n",
      "업 카운팅 :   6\n",
      "업 카운팅 :   7\n",
      "업 카운팅 :   8\n",
      "업 카운팅 :   9\n",
      "업 카운팅 :  10\n"
     ]
    }
   ],
   "source": [
    "upCnt = 1\n",
    "\n",
    "while upCnt <=10:\n",
    "    print(\"업 카운팅 : %3s\"%upCnt)\n",
    "    upCnt += 1"
   ]
  }
 ],
 "metadata": {
  "kernelspec": {
   "display_name": "base",
   "language": "python",
   "name": "python3"
  },
  "language_info": {
   "codemirror_mode": {
    "name": "ipython",
    "version": 3
   },
   "file_extension": ".py",
   "mimetype": "text/x-python",
   "name": "python",
   "nbconvert_exporter": "python",
   "pygments_lexer": "ipython3",
   "version": "3.9.18"
  }
 },
 "nbformat": 4,
 "nbformat_minor": 2
}
