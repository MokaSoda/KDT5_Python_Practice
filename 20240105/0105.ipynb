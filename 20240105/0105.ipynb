{
 "cells": [
  {
   "cell_type": "markdown",
   "metadata": {},
   "source": [
    "# 함수"
   ]
  },
  {
   "cell_type": "markdown",
   "metadata": {},
   "source": [
    "## 함수란\n",
    "\n",
    "<ul>\n",
    "<li>값 저장 변수\n",
    "<li>주소 저장 변수 = 참조 변수\n",
    "<li>함수 칸에 전달된 Data 지정 변수 = 매개변수\n",
    "</ul>"
   ]
  },
  {
   "cell_type": "code",
   "execution_count": 1,
   "metadata": {
    "ExecuteTime": {
     "end_time": "2024-01-05T00:48:18.466595300Z",
     "start_time": "2024-01-05T00:48:18.447483300Z"
    }
   },
   "outputs": [],
   "source": [
    "import asyncio\n",
    "import math\n",
    "import sys\n",
    "import timeit"
   ]
  },
  {
   "cell_type": "code",
   "execution_count": 8,
   "metadata": {
    "ExecuteTime": {
     "end_time": "2024-01-05T00:53:06.593135200Z",
     "start_time": "2024-01-05T00:53:06.575533900Z"
    }
   },
   "outputs": [
    {
     "name": "stdout",
     "output_type": "stream",
     "text": [
      "121\n"
     ]
    }
   ],
   "source": [
    "# 함수 (function)\n",
    "# - 특정 기능을 구현하기 위한 코드 묶음을 의미\n",
    "# - 자주 사용되는 기능을 함수로 구현함\n",
    "# - 함수 생성 문법\n",
    "# def 함수이름(매개번수1, 매개변수2, 매개변수3, ..):\n",
    "#     실행코드\n",
    "#     실해옼드\n",
    "#     실행코드\n",
    "#     return 반환값(리턴값, 결과값)\n",
    "# \n",
    "# 함수의 기능 : 2개의 숫자의 합계를 계산 후 결과를 반환해주는 기능\n",
    "# 함수의 이름 : addTwo\n",
    "# 매개 변수   : 첫숫자, 두번쨰숫자\n",
    "# 반  환  값  : 첫숫자 + 두번쨰숫자\n",
    "\n",
    "# 두 숫자의 합읠 반환해주는 함수\n",
    "def addTwo(x, y):\n",
    "    value = x + y\n",
    "    return value\n",
    "\n",
    "# 두 숫자의 곱샘 결과를 반환해주는 함수\n",
    "def mulTwo(x, y):\n",
    "    value = x * y\n",
    "    return value\n",
    "\n",
    "# 두 숫자의 차이를 양의 숫자로 반환해주는 함수\n",
    "def absTwo(x, y):\n",
    "    value = abs(x - y)\n",
    "    return value\n",
    "\n",
    "\n",
    "# 함수를 사용 => 함수를 호출(Calling)\n",
    "# asyncio 에서는 await 로 코루팅 실행\n",
    "\n",
    "print(addTwo(101, 20))\n",
    "\n",
    "test1 = 10\n",
    "test2 = 20\n",
    "tasks = [addTwo(10, 20), mulTwo(10, 20), absTwo(30, 40)]\n",
    "\n",
    "\n",
    "\n"
   ]
  },
  {
   "cell_type": "markdown",
   "metadata": {
    "collapsed": false
   },
   "source": [
    "### 다양한 함수의 형태 "
   ]
  },
  {
   "cell_type": "code",
   "execution_count": 164,
   "metadata": {
    "ExecuteTime": {
     "end_time": "2024-01-05T01:46:06.528351300Z",
     "start_time": "2024-01-05T01:46:06.521048700Z"
    }
   },
   "outputs": [
    {
     "name": "stdout",
     "output_type": "stream",
     "text": [
      "0! = 1\n",
      "1! = 1 = 1\n",
      "2! = 2 * 1 = 2\n",
      "3! = 3 * 2 * 1 = 6\n",
      "4! = 4 * 3 * 2 * 1 = 24\n",
      "5! = 5 * 4 * 3 * 2 * 1 = 120\n",
      "6! = 6 * 5 * 4 * 3 * 2 * 1 = 720\n",
      "7! = 7 * 6 * 5 * 4 * 3 * 2 * 1 = 5040\n",
      "8! = 8 * 7 * 6 * 5 * 4 * 3 * 2 * 1 = 40320\n",
      "9! = 9 * 8 * 7 * 6 * 5 * 4 * 3 * 2 * 1 = 362880\n"
     ]
    }
   ],
   "source": [
    "# 팩토리얼을 계산 후 계산 결과를 반환해주는 기능 \n",
    "import asyncio\n",
    "\n",
    "def calcFactorial(target):\n",
    "    result = 1\n",
    "    result_str = f\"{target}! = \"\n",
    "    for i in range(target, 0, -1):\n",
    "        result *= i\n",
    "        result_str += f\"{i} * \" if i > 1 else f\"{i} = {result}\" \n",
    "    return result_str if target > 0 else '0! = 1' if target == 0 else \"값이 잘못되었습니다.\", result\n",
    "\n",
    "for x in range(0,10):\n",
    "    print(calcFactorial(x)[0])\n",
    "\n",
    "\n",
    "    "
   ]
  },
  {
   "cell_type": "markdown",
   "metadata": {
    "collapsed": false
   },
   "source": [
    "### 함수의 2번째 형태 (반환값이 없는 경우)\n",
    "\n",
    "<ul>\n",
    "<li> 함수 기능 : 2개의 함수를 덧샘 후 출력만 하는 기능\n",
    "<li> 함수 이름 : addTwoNoReturn\n",
    "<li> 매개 변수 : x, y\n",
    "<li> 반 환  값 : 없음\n",
    "</ul>\n"
   ]
  },
  {
   "cell_type": "code",
   "execution_count": 5,
   "metadata": {
    "collapsed": false
   },
   "outputs": [
    {
     "name": "stdout",
     "output_type": "stream",
     "text": [
      "10 + 0 = 10\n"
     ]
    }
   ],
   "source": [
    "def addTwoNoReturn(x:int, y:int):\n",
    "    '''\n",
    "    함수 설명은 다음과 같이 추가할 수 있습니다.\n",
    "    '''\n",
    "    value = x + y\n",
    "    print(f\"{x} + {y} = {value}\")\n",
    "\n",
    "addTwoNoReturn(10, 20)\n",
    "\n",
    "# 기본적으로 함수의 매개변수 갯수와 동일하게 데이터를 전달해준다\n",
    "# 하지만 다양한 함수 기능에 의해서 일부 전달하지 않거나 함수에\n",
    "# 지정되지 않은 숫자의 변수를 전달해도 될 수 있는 경우가 있다.\n"
   ]
  },
  {
   "cell_type": "markdown",
   "metadata": {},
   "source": [
    "#### enumerate 를 활용한 방법"
   ]
  },
  {
   "cell_type": "code",
   "execution_count": 8,
   "metadata": {
    "ExecuteTime": {
     "end_time": "2024-01-05T04:20:36.622783100Z",
     "start_time": "2024-01-05T04:20:36.609300500Z"
    }
   },
   "outputs": [
    {
     "name": "stdout",
     "output_type": "stream",
     "text": [
      "['ALFIADBIFBSAF', 'TAESDASF', 'ASFDSAFSADF']\n"
     ]
    }
   ],
   "source": [
    "# 영어 단어를 입력 받아서 모두 대문자로 변환해주는 기능\n",
    "# 함수 이름 : convertCase\n",
    "# 매개 변수 : word\n",
    "# 반 환 값  : 없음\n",
    "\n",
    "def convertCase(word:str):\n",
    "    word = word.upper()\n",
    "    \n",
    "# 시퀀스 객체의 모든 원소를 대문자로 변환해주는 기능\n",
    "# 함수 이름 : convertCaseList\n",
    "# 매개 변수 : str 구성된 리스트\n",
    "# 반 환 값  : 없음\n",
    "\n",
    "def convertCaseList(word:list):\n",
    "    # for x in range(len(word)):\n",
    "    #     word[x] = word[x].upper()\n",
    "    \n",
    "    for x, y in enumerate(word):\n",
    "        word[x] = y.upper()\n",
    "\n",
    "\n",
    "test = list(('alfiadbifbsaf','taesdasf','asfdsafsadf'))\n",
    "\n",
    "convertCaseList(test)\n",
    "print(test)\n",
    "\n"
   ]
  },
  {
   "cell_type": "markdown",
   "metadata": {
    "collapsed": false
   },
   "source": [
    "\n",
    "### 리턴 키워드 "
   ]
  },
  {
   "cell_type": "code",
   "execution_count": 10,
   "metadata": {
    "ExecuteTime": {
     "end_time": "2024-01-05T04:28:20.283879300Z",
     "start_time": "2024-01-05T04:28:20.271880900Z"
    },
    "collapsed": false
   },
   "outputs": [
    {
     "name": "stdout",
     "output_type": "stream",
     "text": [
      "0! = 1\n",
      "3! = 6\n"
     ]
    }
   ],
   "source": [
    "# 함수 호출한 곳으로 돌아가게 하는 기능\n",
    "# 결과값이 함께 있다면 결과값을 가지고 돌아감\n",
    "# \n",
    "# def 함수이름(매개변수1, 매개변수2, .. 매개변수):\n",
    "#     조건 코드와 return 값\n",
    "#     실행 코드\n",
    "#     실행 코드\n",
    "#     return 결과값\n",
    "#\n",
    "# 리턴 키워드를 적절히 사용하여 리턴하기\n",
    "\n",
    "def calcFactorialReturn(x:int):\n",
    "    if not x:\n",
    "        return 1 # return 만 사용할 경우 None\n",
    "    ret = 1\n",
    "    for n in range(x,0,-1):\n",
    "        ret *= n\n",
    "    return ret\n",
    "\n",
    "print(f\"0! = {calcFactorialReturn(0)}\")\n",
    "print(f\"3! = {calcFactorialReturn(3)}\")\n",
    "\n"
   ]
  },
  {
   "cell_type": "markdown",
   "metadata": {
    "collapsed": false
   },
   "source": [
    "### 매개변수가 존제하지 않는 함수"
   ]
  },
  {
   "cell_type": "code",
   "execution_count": 16,
   "metadata": {
    "ExecuteTime": {
     "end_time": "2024-01-05T04:34:15.629364300Z",
     "start_time": "2024-01-05T04:34:15.621033900Z"
    },
    "collapsed": false
   },
   "outputs": [
    {
     "name": "stdout",
     "output_type": "stream",
     "text": [
      "Welcome!! Everybody !!\n",
      "Welcome!! Everybody !!\n",
      "Welcome!! Everybody !!\n",
      "Welcome!! Everybody !!\n"
     ]
    }
   ],
   "source": [
    "# 매개변수 return은 선택적\n",
    "# 상황에 맞게 사용\n",
    "# 매개변수가 없는 경우\n",
    "# \n",
    "# 함수 생성 문법 \n",
    "# 함수 기능 : \"~~님 환영합니다.\"\n",
    "# def test():\n",
    "#     pass\n",
    "\n",
    "# 인사만 출력해주는 함수 생성\n",
    "def welcome():\n",
    "    print(\"Welcome!! Everybody !!\")\n",
    "    \n",
    "welcome();welcome();welcome();welcome()\n"
   ]
  },
  {
   "cell_type": "code",
   "execution_count": 20,
   "metadata": {
    "ExecuteTime": {
     "end_time": "2024-01-05T04:37:03.131571Z",
     "start_time": "2024-01-05T04:37:03.121108Z"
    },
    "collapsed": false
   },
   "outputs": [
    {
     "data": {
      "text/plain": [
       "(1013,\n",
       " 'Copyright (c) 2001-2023 Python Software Foundation.\\nAll Rights Reserved.\\n\\nCopyright (c) 2000 BeOpen.com.\\nAll Rights Reserved.\\n\\nCopyright (c) 1995-2001 Corporation for National Research Initiatives.\\nAll Rights Reserved.\\n\\nCopyright (c) 1991-1995 Stichting Mathematisch Centrum, Amsterdam.\\nAll Rights Reserved.')"
      ]
     },
     "execution_count": 20,
     "metadata": {},
     "output_type": "execute_result"
    }
   ],
   "source": [
    "# program information printer\n",
    "def 정보출력함수():\n",
    "    return sys.api_version, sys.copyright\n",
    "정보출력함수()\n"
   ]
  },
  {
   "cell_type": "markdown",
   "metadata": {
    "collapsed": false
   },
   "source": [
    "### 함수의 특별한 경우 (1) \n",
    "- 매개변수의 갯수를 유동적으로 가변으로 하는 함수\n",
    "- 형태 : def 함수명( *data ):\n",
    "- 가변 인자 함수\n",
    "- 매개변수 갯수 : 0개 ~ n개\n"
   ]
  },
  {
   "cell_type": "code",
   "execution_count": null,
   "metadata": {
    "collapsed": false
   },
   "outputs": [],
   "source": [
    "# 정해지지 않은 변수를 정수를 덧샘후 결과를 반환하는 함수\n",
    "#\n",
    "def addNumbers(*nums):\n",
    "    print(type(nums))\n",
    "    return sum(nums)\n",
    "\n",
    "\n",
    "print(addNumbers(10,123,1,2,3,34,5,3))\n",
    "print(addNumbers(12))\n",
    "print(addNumbers())\n",
    "# asterisk 를 사용하여 내부에 모든 원소를 하나씩 풀어서 전달해준다.\n",
    "\n"
   ]
  },
  {
   "cell_type": "markdown",
   "metadata": {
    "collapsed": false
   },
   "source": [
    "#### *을 활용한 언패킹"
   ]
  },
  {
   "cell_type": "code",
   "execution_count": 50,
   "metadata": {
    "ExecuteTime": {
     "end_time": "2024-01-05T05:22:03.520189900Z",
     "start_time": "2024-01-05T05:22:03.489826Z"
    },
    "collapsed": false
   },
   "outputs": [
    {
     "name": "stdout",
     "output_type": "stream",
     "text": [
      "<class 'tuple'>\n",
      "494550\n",
      "[11, 22, 33, 44]\n",
      "11-22-33-44\n",
      "0 1 2 3 4 5 6 7 8 9 {'100': 100, '101': 101, '102': 102, '103': 103, '104': 104, '105': 105, '106': 106, '107': 107, '108': 108, '109': 109, '110': 110, '111': 111, '112': 112, '113': 113, '114': 114, '115': 115, '116': 116, '117': 117, '118': 118, '119': 119, '120': 120, '121': 121, '122': 122, '123': 123, '124': 124, '125': 125, '126': 126, '127': 127, '128': 128, '129': 129, '130': 130, '131': 131, '132': 132, '133': 133, '134': 134, '135': 135, '136': 136, '137': 137, '138': 138, '139': 139, '140': 140, '141': 141, '142': 142, '143': 143, '144': 144, '145': 145, '146': 146, '147': 147, '148': 148, '149': 149, '150': 150, '151': 151, '152': 152, '153': 153, '154': 154, '155': 155, '156': 156, '157': 157, '158': 158, '159': 159, '160': 160, '161': 161, '162': 162, '163': 163, '164': 164, '165': 165, '166': 166, '167': 167, '168': 168, '169': 169, '170': 170, '171': 171, '172': 172, '173': 173, '174': 174, '175': 175, '176': 176, '177': 177, '178': 178, '179': 179, '180': 180, '181': 181, '182': 182, '183': 183, '184': 184, '185': 185, '186': 186, '187': 187, '188': 188, '189': 189, '190': 190, '191': 191, '192': 192, '193': 193, '194': 194, '195': 195, '196': 196, '197': 197, '198': 198, '199': 199}\n"
     ]
    }
   ],
   "source": [
    "\n",
    "print(addNumbers(*range(100,1000)))\n",
    "\n",
    "a = [x*11 for x in range(1,5)]\n",
    "print(a)\n",
    "print(*a, sep=\"-\")\n",
    "at = (x for x in range(10))\n",
    "adict = dict(zip([str(a) for a in range(100,200)], [a for a in range(100,200)]))\n",
    "print(*at, end= \" \")\n",
    "# print(*adict) # 딕셔너리의 * 은 키만 가지고 옴\n",
    "\n",
    "# print(adict\n"
   ]
  },
  {
   "cell_type": "markdown",
   "metadata": {
    "collapsed": false
   },
   "source": [
    "### 특수 함수 형태 2번째: 유동변수를 키:데이터 형태로 받는 방식으로 변경\n",
    "> 매개변수의 갯수를 유동적으로 가변으로 하는 함수\n",
    "- 키와 값의 덩어리 데이터 \n",
    "- 형태 : def 함수명 (**data):\n",
    "- 가변 인자 함수\n",
    "- 매개변수 갯수 : 0개 ~ n개\n",
    "- 호출 : 함수명(키1 = 값1, 키2 = 값2, .... 키n = 값n)\n",
    "- 이떄 키의 값은 변수로 직접 대입함\n",
    "- 절대로 키 값을 '' 로 처리하지 않음, 따라서 숫자 데이터 등은 다른 방식으로 사용"
   ]
  },
  {
   "cell_type": "code",
   "execution_count": 57,
   "metadata": {
    "ExecuteTime": {
     "end_time": "2024-01-05T05:41:33.614466300Z",
     "start_time": "2024-01-05T05:41:33.601033100Z"
    },
    "collapsed": false
   },
   "outputs": [],
   "source": [
    "def docfunc(a:int, b:str):\n",
    "    '''\n",
    "    :param a: 정수를 삽입합니다. \n",
    "    :param b: 실수를 삽입합니다.\n",
    "    :return: a + b 를 출력합니다.\n",
    "    '''\n",
    "    return a + b"
   ]
  },
  {
   "cell_type": "markdown",
   "metadata": {
    "collapsed": false
   },
   "source": [
    "### 실습문제 1\n",
    "2개의 정수를 입력받은 후 사칙연산 수행결과를 반환하는\n",
    "기능의 함수를 정의해주세요.\n",
    "- 함수이름 : fourCalc\n",
    "- 매개변수 : n1, n2\n",
    "- 반환결과 : 사칙 연산 결과\n"
   ]
  },
  {
   "cell_type": "code",
   "execution_count": 79,
   "metadata": {
    "ExecuteTime": {
     "end_time": "2024-01-05T05:58:47.210069100Z",
     "start_time": "2024-01-05T05:58:47.199710500Z"
    },
    "collapsed": false
   },
   "outputs": [
    {
     "data": {
      "text/plain": [
       "(110, -90, 1000, 0.1)"
      ]
     },
     "execution_count": 79,
     "metadata": {},
     "output_type": "execute_result"
    }
   ],
   "source": [
    "def fourCalc (n1:int, n2:int):\n",
    "    abadd = n1 + n2\n",
    "    absubtract = n1 - n2\n",
    "    abmultiply = n1 * n2\n",
    "    abdivide = (n1 / n2) if n2 != 0 else -1 # 나눗셈의 경우 에러 제어를 해주어야 함\n",
    "    return abadd, absubtract, abmultiply, abdivide\n",
    "\n",
    "fourCalc(10, 100)"
   ]
  },
  {
   "cell_type": "markdown",
   "metadata": {
    "collapsed": false
   },
   "source": [
    "### 실습 2번 문제\n",
    "- 문자열을 16진수 코드값으로 변환 후 반환하는 함수를 정의해 주세요.\n",
    "- 함수 이름 : getCode\n",
    "- 매개변수 : message\n",
    "- 반환결과 : str"
   ]
  },
  {
   "cell_type": "code",
   "execution_count": 1,
   "metadata": {
    "ExecuteTime": {
     "end_time": "2024-01-05T06:02:31.898866500Z",
     "start_time": "2024-01-05T06:02:31.889299Z"
    },
    "collapsed": false
   },
   "outputs": [
    {
     "data": {
      "text/plain": [
       "'0x48 0x65 0x6c 0x6c 0x6f 0x20 0x57 0x6f 0x72 0x6c 0x64 0x21'"
      ]
     },
     "execution_count": 1,
     "metadata": {},
     "output_type": "execute_result"
    }
   ],
   "source": [
    "def getCode(message:str):\n",
    "    return ' '.join([hex(ord(char)) for char in message])\n",
    "\n",
    "getCode('Hello World!')\n"
   ]
  },
  {
   "cell_type": "markdown",
   "metadata": {},
   "source": [
    "- 함수 기능 : 회원 가입 기능\n",
    "- 함수 이름 : joinMember\n",
    "- 매개 변수 : 이름, 전화번호, 아이디, 이메일, 취미, 주소, 생일 \n",
    "-            가변 + 데이터 정보 함께\n",
    "-            키워드파라미터 **member\n",
    "- 반환값    : \"가입완료 되었습니다.\" str"
   ]
  },
  {
   "cell_type": "code",
   "execution_count": 12,
   "metadata": {
    "collapsed": false
   },
   "outputs": [
    {
     "name": "stdout",
     "output_type": "stream",
     "text": [
      "<class 'dict'>\n",
      "{'name': 'hong', 'age': 17, 'birth': 20201010}\n",
      "<class 'dict'>\n",
      "{'id': 'Hong84', 'phone': '010-1111-2222', 'job': 'actor', 'blood': 'B'}\n",
      "<class 'dict'>\n",
      "{'id': 'baby', 'birth': '2024/01/01', 'blood': 'A'}\n",
      "{'회원001': {'name': 'hong', 'age': 17, 'birth': 20201010}, '회원002': {'id': 'Hong84', 'phone': '010-1111-2222', 'job': 'actor', 'blood': 'B'}, '회원003': {'id': 'baby', 'birth': '2024/01/01', 'blood': 'A'}}\n"
     ]
    },
    {
     "ename": "",
     "evalue": "",
     "output_type": "error",
     "traceback": [
      "\u001b[1;31mThe Kernel crashed while executing code in the the current cell or a previous cell. Please review the code in the cell(s) to identify a possible cause of the failure. Click <a href='https://aka.ms/vscodeJupyterKernelCrash'>here</a> for more info. View Jupyter <a href='command:jupyter.viewOutput'>log</a> for further details."
     ]
    }
   ],
   "source": [
    "# 함수 기능 : 회원 가입 기능\n",
    "# 함수 이름 : joinMember\n",
    "# 매개 변수 : 이름, 전화번호, 아이디, 이메일, 취미, 주소, 생일 \n",
    "#            가변 + 데이터 정보 함께\n",
    "#            키워드파라미터 **member\n",
    "# 반환값    : \"가입완료 되었습니다.\" str\n",
    "\n",
    "members = {        \n",
    "}\n",
    "\n",
    "members_list = []\n",
    "\n",
    "def joinMember(**member):\n",
    "    # members.update(**member)\n",
    "    # for x, y in member.items():\n",
    "    #     members.update({x:y})\n",
    "    print(type(member))\n",
    "    print(member)\n",
    "    members_list.append(member)\n",
    "    members[f\"회원{len(members)+1:0>3d}\"] = member\n",
    "\n",
    "# 함수 사용 즉 호출\n",
    "# 가입된 회원들 저장 변수\n",
    "\n",
    "\n",
    "joinMember(name = 'hong', age = 17, birth = 20201010)\n",
    "joinMember(id = 'Hong84', phone = '010-1111-2222', job = 'actor', blood = 'B')\n",
    "joinMember(id = 'baby', birth = '2024/01/01', blood = 'A')\n",
    "\n",
    "print(members)\n",
    "\n",
    "# m = {\n",
    "#     'name'  :   \"hong\",\n",
    "#     'age'   :   17,\n",
    "# }\n",
    "# print(m.keys())\n",
    "# print(m.values())\n",
    "\n",
    "\n",
    "\n",
    "\n",
    "\n"
   ]
  },
  {
   "cell_type": "code",
   "execution_count": null,
   "metadata": {},
   "outputs": [],
   "source": []
  }
 ],
 "metadata": {
  "kernelspec": {
   "display_name": "py3_9",
   "language": "python",
   "name": "python3"
  },
  "language_info": {
   "codemirror_mode": {
    "name": "ipython",
    "version": 3
   },
   "file_extension": ".py",
   "mimetype": "text/x-python",
   "name": "python",
   "nbconvert_exporter": "python",
   "pygments_lexer": "ipython3",
   "version": "3.9.18"
  }
 },
 "nbformat": 4,
 "nbformat_minor": 2
}
