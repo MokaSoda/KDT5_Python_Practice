{
 "cells": [
  {
   "cell_type": "markdown",
   "source": [
    "# 20240108"
   ],
   "metadata": {
    "collapsed": false
   },
   "id": "cdc197351856ec83"
  },
  {
   "cell_type": "markdown",
   "source": [
    "## 함수와 클래스\n",
    "\n",
    "- 변수에 어떤 데이터를 저장하고 있는 지 확인하는 함수 => type(변수명)"
   ],
   "metadata": {
    "collapsed": false
   },
   "id": "38156e28b553b17b"
  },
  {
   "cell_type": "code",
   "outputs": [
    {
     "name": "stdout",
     "output_type": "stream",
     "text": [
      "data Type => <class 'int'>\n",
      "data Type => <class 'str'>\n",
      "id 함수의 Type => <class 'builtin_function_or_method'>\n",
      "addTwo 함수의 Type => <class 'function'>\n",
      "1 + 2 = 3\n",
      "test vs addTwo 의 주소 => 2972863466800, 2972863466800\n"
     ]
    }
   ],
   "source": [
    "data = 1\n",
    "print(f\"data Type => {type(data)}\")\n",
    "\n",
    "data = 'good'\n",
    "print(f\"data Type => {type(data)}\")\n",
    "\n",
    "# 함수명의 타입? 함수도 결국 객체의 일종\n",
    "# 내장 함수 id의 타입\n",
    "print(f\"id 함수의 Type => {type(id)}\")\n",
    "\n",
    "# 사용자 정의 함수 생성\n",
    "# 함수의 기능 : 두개의 정수를 더한 후 결과 출력 기능\n",
    "# 함수의 이름 : addTwo\n",
    "# 매개 변수  : n1, n2\n",
    "# 반환 결과  : 없음(출력만 진행하는 함수)\n",
    "\n",
    "def addTwo(n1, n2):\n",
    "    print(f\"{n1} + {n2} = {n1 + n2}\")\n",
    "print(f\"addTwo 함수의 Type => {type(addTwo)}\")\n",
    "\n",
    "# 변수와 함수\n",
    "# 파이선은 결국 모든 요소가 객체로 이루어져 있음\n",
    "'''\n",
    "함수명은 코드의 시작 주소를 저장하고 있음\n",
    "함수명을 변수에 대입 가능\n",
    "'''\n",
    "test = addTwo\n",
    "test(1,2)\n",
    "\n",
    "print(f\"test vs addTwo 의 주소 => {id(test)}, {id(addTwo)}\")\n",
    "\n",
    "# 따라서\n",
    "# test(1,2)\n",
    "# addTwo(1,2)\n",
    "# 은 동일한 결과를 실행해준다\n"
   ],
   "metadata": {
    "collapsed": false,
    "ExecuteTime": {
     "end_time": "2024-01-08T00:23:58.310158300Z",
     "start_time": "2024-01-08T00:23:58.276246100Z"
    }
   },
   "id": "e8987465ed46df5c",
   "execution_count": 18
  },
  {
   "cell_type": "markdown",
   "source": [
    "### 함수 자체를 저장하는 예시\n",
    "- 1~10 범위에서 임의의 정수 5개를 저장\n",
    "- 중복된 정수 저장 가능"
   ],
   "metadata": {
    "collapsed": false
   },
   "id": "cdb03768dab31d47"
  },
  {
   "cell_type": "code",
   "outputs": [
    {
     "name": "stdout",
     "output_type": "stream",
     "text": [
      "최대값 : 10\n",
      "최소값 : 2\n",
      "내림차순 : [10, 8, 7, 7, 2]\n",
      "합계 : 34\n",
      "갯수 : 5\n"
     ]
    }
   ],
   "source": [
    "import random\n",
    "\n",
    "gen5from1to10 = lambda : [random.randint(1, 10) for x in range(5)]\n",
    "result = gen5from1to10()\n",
    "\n",
    "# 5개 정수에서 최대값, 최소값, 내림차순 정렬된 값 출력\n",
    "# 여러개의 함수 이름은 변수에 저장하기\n",
    "\n",
    "funs = [max, min, sorted, sum, len]\n",
    "funsname = ['최대값', '최소값', '내림차순', '합계', '갯수']\n",
    "funs_dict = dict(zip(funsname, funs))\n",
    "\n",
    "\n",
    "resultPrinter = lambda result ,funs_dict : print(\"\\n\".join([f\"{name} : {f(result) if f != sorted else f(result, reverse = True)}\" for name, f in funs_dict.items()]))\n",
    "\n",
    "resultPrinter(result, funs_dict)"
   ],
   "metadata": {
    "collapsed": false,
    "ExecuteTime": {
     "end_time": "2024-01-08T00:52:08.714151100Z",
     "start_time": "2024-01-08T00:52:08.708933700Z"
    }
   },
   "id": "b5d8966d49f140b8",
   "execution_count": 100
  },
  {
   "cell_type": "code",
   "outputs": [],
   "source": [],
   "metadata": {
    "collapsed": false
   },
   "id": "f8b663ec350f3a2c"
  },
  {
   "cell_type": "code",
   "outputs": [],
   "source": [],
   "metadata": {
    "collapsed": false
   },
   "id": "ac6e5c415fc9fedc"
  }
 ],
 "metadata": {
  "kernelspec": {
   "display_name": "Python 3",
   "language": "python",
   "name": "python3"
  },
  "language_info": {
   "codemirror_mode": {
    "name": "ipython",
    "version": 2
   },
   "file_extension": ".py",
   "mimetype": "text/x-python",
   "name": "python",
   "nbconvert_exporter": "python",
   "pygments_lexer": "ipython2",
   "version": "2.7.6"
  }
 },
 "nbformat": 4,
 "nbformat_minor": 5
}
