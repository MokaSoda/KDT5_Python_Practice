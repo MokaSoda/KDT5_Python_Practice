{
 "cells": [
  {
   "cell_type": "markdown",
   "source": [
    "# 20240108"
   ],
   "metadata": {
    "collapsed": false
   },
   "id": "cdc197351856ec83"
  },
  {
   "cell_type": "markdown",
   "source": [
    "## 함수와 클래스\n",
    "\n",
    "- 변수에 어떤 데이터를 저장하고 있는 지 확인하는 함수 => type(변수명)"
   ],
   "metadata": {
    "collapsed": false
   },
   "id": "38156e28b553b17b"
  },
  {
   "cell_type": "code",
   "outputs": [
    {
     "name": "stdout",
     "output_type": "stream",
     "text": [
      "data Type => <class 'int'>\n",
      "data Type => <class 'str'>\n",
      "id 함수의 Type => <class 'builtin_function_or_method'>\n",
      "addTwo 함수의 Type => <class 'function'>\n",
      "1 + 2 = 3\n",
      "test vs addTwo 의 주소 => 2972884001120, 2972884001120\n"
     ]
    }
   ],
   "source": [
    "\n",
    "data = 1\n",
    "print(f\"data Type => {type(data)}\")\n",
    "\n",
    "data = 'good'\n",
    "print(f\"data Type => {type(data)}\")\n",
    "\n",
    "# 함수명의 타입? 함수도 결국 객체의 일종\n",
    "# 내장 함수 id의 타입\n",
    "print(f\"id 함수의 Type => {type(id)}\")\n",
    "\n",
    "# 사용자 정의 함수 생성\n",
    "# 함수의 기능 : 두개의 정수를 더한 후 결과 출력 기능\n",
    "# 함수의 이름 : addTwo\n",
    "# 매개 변수  : n1, n2\n",
    "# 반환 결과  : 없음(출력만 진행하는 함수)\n",
    "\n",
    "def addTwo(n1, n2):\n",
    "    print(f\"{n1} + {n2} = {n1 + n2}\")\n",
    "print(f\"addTwo 함수의 Type => {type(addTwo)}\")\n",
    "\n",
    "# 변수와 함수\n",
    "# 파이선은 결국 모든 요소가 객체로 이루어져 있음\n",
    "'''\n",
    "함수명은 코드의 시작 주소를 저장하고 있음\n",
    "함수명을 변수에 대입 가능\n",
    "'''\n",
    "test = addTwo\n",
    "test(1,2)\n",
    "\n",
    "print(f\"test vs addTwo 의 주소 => {id(test)}, {id(addTwo)}\")\n",
    "\n",
    "# 따라서\n",
    "# test(1,2)\n",
    "# addTwo(1,2)\n",
    "# 은 동일한 결과를 실행해준다\n"
   ],
   "metadata": {
    "collapsed": false,
    "ExecuteTime": {
     "end_time": "2024-01-08T01:50:19.809139600Z",
     "start_time": "2024-01-08T01:50:19.791413300Z"
    }
   },
   "id": "e8987465ed46df5c",
   "execution_count": 129
  },
  {
   "cell_type": "markdown",
   "source": [
    "### 함수 자체를 저장하는 예시\n",
    "- 1~10 범위에서 임의의 정수 5개를 저장\n",
    "- 중복된 정수 저장 가능"
   ],
   "metadata": {
    "collapsed": false
   },
   "id": "cdb03768dab31d47"
  },
  {
   "cell_type": "code",
   "outputs": [
    {
     "name": "stdout",
     "output_type": "stream",
     "text": [
      "최대값\t: 10\n",
      "최소값\t: 1\n",
      "내림차순\t: [10, 10, 10, 7, 1]\n",
      "합계\t: 38\n",
      "갯수\t: 5\n"
     ]
    }
   ],
   "source": [
    "import random\n",
    "\n",
    "gen5from1to10 = lambda : [random.randint(1, 10) for x in range(5)]\n",
    "result = gen5from1to10()\n",
    "\n",
    "# 5개 정수에서 최대값, 최소값, 내림차순 정렬된 값 출력\n",
    "# 여러개의 함수 이름은 변수에 저장하기\n",
    "\n",
    "functions = [max, min, sorted, sum, len]\n",
    "functions_name = ['최대값', '최소값', '내림차순', '합계', '갯수']\n",
    "functions_dict = dict(zip(functions_name, functions))\n",
    "\n",
    "resultPrinter = lambda result, functions_dict : print(\"\\n\".join([f\"{name}\\t: \"\n",
    "                                                f\"{f(result) if f != sorted else f(result, reverse = True)}\"\n",
    "                                                                 for name, f in functions_dict.items()]))\n",
    "\n",
    "resultPrinter(result, functions_dict)"
   ],
   "metadata": {
    "collapsed": false,
    "ExecuteTime": {
     "end_time": "2024-01-08T01:20:49.354974700Z",
     "start_time": "2024-01-08T01:20:49.338344Z"
    }
   },
   "id": "b5d8966d49f140b8",
   "execution_count": 122
  },
  {
   "cell_type": "markdown",
   "source": [
    "만약 함수 내부의 변수가 매배변수를 참조할 수 없는 경우에는\n",
    "<br>전역 변수를 참조하는 구조를 가지고 있음"
   ],
   "metadata": {
    "collapsed": false
   },
   "id": "35f83aa369a4160c"
  },
  {
   "cell_type": "code",
   "outputs": [
    {
     "name": "stdout",
     "output_type": "stream",
     "text": [
      "7\n",
      "Today : 2034/11/18\n",
      "Today : 2024/11/18\n",
      "현제 2024 1 8\n"
     ]
    }
   ],
   "source": [
    "def addTwo(a,b):\n",
    "    print(a + b)\n",
    "\n",
    "def currrentDate(year,month,day):\n",
    "    year += 10\n",
    "    month += 10\n",
    "    day += 10\n",
    "    print(f\"Today : {year}/{month:0>2d}/{day:0>2d}\")\n",
    "\n",
    "def currrentDatenoYear(month,day):\n",
    "    month += 10\n",
    "    day += 10\n",
    "    print(f\"Today : {year}/{month:0>2d}/{day:0>2d}\")\n",
    "\n",
    "\n",
    "\n",
    "# 전역 변수\n",
    "year = 2024\n",
    "month = 1\n",
    "day = 8\n",
    "\n",
    "# 함수 호출\n",
    "addTwo(2, 5)\n",
    "currrentDate(year, month, day)\n",
    "\n",
    "# 만약 함수 내부의 변수가 매배변수를 참조할 수 없는 경우에는\n",
    "# 전역 변수를 참조하는 구조를 가지고 있음\n",
    "currrentDatenoYear(month, day)\n",
    "\n",
    "# 현재 변수 출력\n",
    "print(\"현제\", year, month, day)\n"
   ],
   "metadata": {
    "collapsed": false,
    "ExecuteTime": {
     "end_time": "2024-01-08T01:35:28.166597Z",
     "start_time": "2024-01-08T01:35:28.143486Z"
    }
   },
   "id": "f8b663ec350f3a2c",
   "execution_count": 124
  },
  {
   "cell_type": "markdown",
   "source": [
    "## 전역변수(Global Variable)와 지역변수(local Variable)\n",
    "1. 전역 변수\n",
    "- 파이썬 파일에 존재하는 변수\n",
    "- 파일 내부 모든 곳에서 사용가능한 변수\n",
    "- 파일 실행이 종료되기 전 까지 유지\n",
    "2. 지역 변수\n",
    "- 함수에 존재하는 변수\n",
    "- 함수에서만 사용 가능한 변수\n",
    "- 함수가 종료되면 변수들은 메모리에서 사라짐"
   ],
   "metadata": {
    "collapsed": false
   },
   "id": "1cb9bab152856de8"
  },
  {
   "cell_type": "code",
   "outputs": [
    {
     "name": "stdout",
     "output_type": "stream",
     "text": [
      "Today : 2024/01/08\n",
      "Today : 2024/01/08\n",
      "Today : 2024/01/08/금요일\n",
      "year : 2024, month : 1, day : 8\n"
     ]
    }
   ],
   "source": [
    "def currentDate(year, month, day):\n",
    "    # year month day => 지역 변수\n",
    "    print(f\"Today : {year}/{month:0>2}/{day:0>2}\")\n",
    "\n",
    "def currentDate2(month, day):\n",
    "    # month, day => 지역 변수\n",
    "    # year => 전역 변수\n",
    "    print(f\"Today : {year}/{month:0>2}/{day:0>2}\")\n",
    "\n",
    "def currentDate3(month, day, week):\n",
    "    # month, day => 지역 변수\n",
    "    # year => 전역 변수\n",
    "    print(f\"Today : {year}/{month:0>2}/{day:0>2}/{week}요일\")\n",
    "\n",
    "# 전역 변수\n",
    "year, month, day = 2024, 1, 8\n",
    "\n",
    "currentDate(year,month,day)\n",
    "currentDate2(month,day)\n",
    "currentDate3(month, day, '금')\n",
    "\n",
    "# 변수값 확인 출력\n",
    "print(\"year : %s, month : %s, day : %s\"%(year,month,day))\n",
    "# week는 지역변수이므로 함수 외부에서 접근할 수 없다.\n",
    "# print(\"week : %s\"%week)\n",
    "# NameError: name 'week' is not defined\n",
    "\n",
    "\n"
   ],
   "metadata": {
    "collapsed": false,
    "ExecuteTime": {
     "end_time": "2024-01-08T01:50:33.237263100Z",
     "start_time": "2024-01-08T01:50:33.219275500Z"
    }
   },
   "id": "ac6e5c415fc9fedc",
   "execution_count": 130
  },
  {
   "cell_type": "markdown",
   "source": [
    "## 전역 변수를 함수 내에서 바꾸기\n",
    "\n",
    "- 함수 내에서 전역 변수 값 변경하고자 하는 경우는 추가 코드 필요\n",
    "- 추가 코드 : global 전역 변수명\n",
    "- 주의 : 전역변수값이 언제 든지 함수로 변경이 될 수 있는 상황이므로 사용시 주의\n"
   ],
   "metadata": {
    "collapsed": false
   },
   "id": "60f3808dbdbfeda4"
  },
  {
   "cell_type": "code",
   "outputs": [
    {
     "name": "stdout",
     "output_type": "stream",
     "text": [
      "Today : 2024/01/08\n",
      "Today : 2034/01/08\n",
      "Today : 2034/01/08/금요일\n",
      "year : 2034, month : 1, day : 8\n"
     ]
    }
   ],
   "source": [
    "def currentDate(year, month, day):\n",
    "    # year month day => 지역 변수\n",
    "    print(f\"Today : {year}/{month:0>2}/{day:0>2}\")\n",
    "\n",
    "\n",
    "def currentDate2(month, day):\n",
    "    # month, day => 지역 변수\n",
    "    # year => 전역 변수\n",
    "    # 함수 내에서 전역변수 값을 변경하고자 하는 경우는 global 전역변수명 \n",
    "    global year\n",
    "    # 전역 변수를 불러온 이후에 값을 변경하는 행위는 성공적으로 진행 가능함\n",
    "    year += 10\n",
    "    print(f\"Today : {year}/{month:0>2}/{day:0>2}\")\n",
    "\n",
    "\n",
    "def currentDate3(month, day, week):\n",
    "    # month, day => 지역 변수\n",
    "    # year => 전역 변수\n",
    "    print(f\"Today : {year}/{month:0>2}/{day:0>2}/{week}요일\")\n",
    "\n",
    "\n",
    "# 전역 변수\n",
    "year, month, day = 2024, 1, 8\n",
    "\n",
    "currentDate(year, month, day)\n",
    "currentDate2(month, day)\n",
    "currentDate3(month, day, '금')\n",
    "\n",
    "# 변수값 확인 출력\n",
    "print(\"year : %s, month : %s, day : %s\" % (year, month, day))\n",
    "# week는 지역변수이므로 함수 외부에서 접근할 수 없다.\n",
    "# print(\"week : %s\"%week)\n",
    "# NameError: name 'week' is not defined\n",
    "\n",
    "\n"
   ],
   "metadata": {
    "collapsed": false,
    "ExecuteTime": {
     "end_time": "2024-01-08T02:00:46.056256200Z",
     "start_time": "2024-01-08T02:00:46.044481100Z"
    }
   },
   "id": "c929d69f345e4abb",
   "execution_count": 134
  },
  {
   "cell_type": "markdown",
   "source": [
    "## 리스트 튜플 등 포인터가 전달되는 경우 전역변수와 지역변수 관계\n",
    "\n",
    "- 리스트나 튜플의 경우 주소가 전될되는 구조\n",
    "- 따라서 함수 내부에서 데이터 수정 시 함수 밖에서도 변경 값 조회가능\n",
    "- 함수 작성시 해당 내용을 유의하여 작성하여야 함\n"
   ],
   "metadata": {
    "collapsed": false
   },
   "id": "145524a404f04c58"
  },
  {
   "cell_type": "code",
   "outputs": [
    {
     "name": "stdout",
     "output_type": "stream",
     "text": [
      "before : [2024, 1, 8], 월요일\n",
      "Today : 2024/01/08/월요일\n",
      "after  : [2032, 1, 8], 월요일\n"
     ]
    }
   ],
   "source": [
    "def currentDate(todays:list, week:str):\n",
    "    # todays => 년, 월, 일을 담고 있는 데이터 타입, 리스트\n",
    "    print(\"Today : {0[0]}/{0[1]:0>2}/{0[2]:0>2}/{1}\".format(todays, week))\n",
    "    todays[0] = 2032\n",
    "    week = '화요일'\n",
    "\n",
    "\n",
    "\n",
    "# 전역 변수\n",
    "todays = [2024, 1, 8]\n",
    "week = '월요일'\n",
    "\n",
    "\n",
    "print(f\"before : {todays}, {week}\")\n",
    "currentDate(todays, week)\n",
    "print(f\"after  : {todays}, {week}\")\n",
    "\n"
   ],
   "metadata": {
    "collapsed": false,
    "ExecuteTime": {
     "end_time": "2024-01-08T02:18:25.530171300Z",
     "start_time": "2024-01-08T02:18:25.516463200Z"
    }
   },
   "id": "1c1951c87acc39bb",
   "execution_count": 138
  },
  {
   "cell_type": "code",
   "outputs": [],
   "source": [],
   "metadata": {
    "collapsed": false
   },
   "id": "f6249ef3412e1966"
  },
  {
   "cell_type": "code",
   "outputs": [],
   "source": [],
   "metadata": {
    "collapsed": false
   },
   "id": "2c295858f9fdb178"
  }
 ],
 "metadata": {
  "kernelspec": {
   "display_name": "Python 3",
   "language": "python",
   "name": "python3"
  },
  "language_info": {
   "codemirror_mode": {
    "name": "ipython",
    "version": 2
   },
   "file_extension": ".py",
   "mimetype": "text/x-python",
   "name": "python",
   "nbconvert_exporter": "python",
   "pygments_lexer": "ipython2",
   "version": "2.7.6"
  }
 },
 "nbformat": 4,
 "nbformat_minor": 5
}
