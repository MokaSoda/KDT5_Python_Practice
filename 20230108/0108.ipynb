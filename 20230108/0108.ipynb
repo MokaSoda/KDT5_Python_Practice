{
 "cells": [
  {
   "cell_type": "markdown",
   "id": "cdc197351856ec83",
   "metadata": {
    "collapsed": false
   },
   "source": [
    "# 20240108"
   ]
  },
  {
   "cell_type": "markdown",
   "id": "38156e28b553b17b",
   "metadata": {
    "collapsed": false
   },
   "source": [
    "## 함수와 클래스\n",
    "\n",
    "- 변수에 어떤 데이터를 저장하고 있는 지 확인하는 함수 => type(변수명)"
   ]
  },
  {
   "cell_type": "code",
   "execution_count": 129,
   "id": "e8987465ed46df5c",
   "metadata": {
    "ExecuteTime": {
     "end_time": "2024-01-08T01:50:19.809139600Z",
     "start_time": "2024-01-08T01:50:19.791413300Z"
    },
    "collapsed": false
   },
   "outputs": [
    {
     "name": "stdout",
     "output_type": "stream",
     "text": [
      "data Type => <class 'int'>\n",
      "data Type => <class 'str'>\n",
      "id 함수의 Type => <class 'builtin_function_or_method'>\n",
      "addTwo 함수의 Type => <class 'function'>\n",
      "1 + 2 = 3\n",
      "test vs addTwo 의 주소 => 2972884001120, 2972884001120\n"
     ]
    }
   ],
   "source": [
    "\n",
    "data = 1\n",
    "print(f\"data Type => {type(data)}\")\n",
    "\n",
    "data = 'good'\n",
    "print(f\"data Type => {type(data)}\")\n",
    "\n",
    "# 함수명의 타입? 함수도 결국 객체의 일종\n",
    "# 내장 함수 id의 타입\n",
    "print(f\"id 함수의 Type => {type(id)}\")\n",
    "\n",
    "# 사용자 정의 함수 생성\n",
    "# 함수의 기능 : 두개의 정수를 더한 후 결과 출력 기능\n",
    "# 함수의 이름 : addTwo\n",
    "# 매개 변수  : n1, n2\n",
    "# 반환 결과  : 없음(출력만 진행하는 함수)\n",
    "\n",
    "def addTwo(n1, n2):\n",
    "    print(f\"{n1} + {n2} = {n1 + n2}\")\n",
    "print(f\"addTwo 함수의 Type => {type(addTwo)}\")\n",
    "\n",
    "# 변수와 함수\n",
    "# 파이선은 결국 모든 요소가 객체로 이루어져 있음\n",
    "'''\n",
    "함수명은 코드의 시작 주소를 저장하고 있음\n",
    "함수명을 변수에 대입 가능\n",
    "'''\n",
    "test = addTwo\n",
    "test(1,2)\n",
    "\n",
    "print(f\"test vs addTwo 의 주소 => {id(test)}, {id(addTwo)}\")\n",
    "\n",
    "# 따라서\n",
    "# test(1,2)\n",
    "# addTwo(1,2)\n",
    "# 은 동일한 결과를 실행해준다\n"
   ]
  },
  {
   "cell_type": "markdown",
   "id": "cdb03768dab31d47",
   "metadata": {
    "collapsed": false
   },
   "source": [
    "### 함수 자체를 저장하는 예시\n",
    "- 1~10 범위에서 임의의 정수 5개를 저장\n",
    "- 중복된 정수 저장 가능"
   ]
  },
  {
   "cell_type": "code",
   "execution_count": 122,
   "id": "b5d8966d49f140b8",
   "metadata": {
    "ExecuteTime": {
     "end_time": "2024-01-08T01:20:49.354974700Z",
     "start_time": "2024-01-08T01:20:49.338344Z"
    },
    "collapsed": false
   },
   "outputs": [
    {
     "name": "stdout",
     "output_type": "stream",
     "text": [
      "최대값\t: 10\n",
      "최소값\t: 1\n",
      "내림차순\t: [10, 10, 10, 7, 1]\n",
      "합계\t: 38\n",
      "갯수\t: 5\n"
     ]
    }
   ],
   "source": [
    "import random\n",
    "\n",
    "gen5from1to10 = lambda : [random.randint(1, 10) for x in range(5)]\n",
    "result = gen5from1to10()\n",
    "\n",
    "# 5개 정수에서 최대값, 최소값, 내림차순 정렬된 값 출력\n",
    "# 여러개의 함수 이름은 변수에 저장하기\n",
    "\n",
    "functions = [max, min, sorted, sum, len]\n",
    "functions_name = ['최대값', '최소값', '내림차순', '합계', '갯수']\n",
    "functions_dict = dict(zip(functions_name, functions))\n",
    "\n",
    "resultPrinter = lambda result, functions_dict : print(\"\\n\".join([f\"{name}\\t: \"\n",
    "                                                f\"{f(result) if f != sorted else f(result, reverse = True)}\"\n",
    "                                                                 for name, f in functions_dict.items()]))\n",
    "\n",
    "resultPrinter(result, functions_dict)"
   ]
  },
  {
   "cell_type": "markdown",
   "id": "35f83aa369a4160c",
   "metadata": {
    "collapsed": false
   },
   "source": [
    "만약 함수 내부의 변수가 매배변수를 참조할 수 없는 경우에는\n",
    "<br>전역 변수를 참조하는 구조를 가지고 있음"
   ]
  },
  {
   "cell_type": "code",
   "execution_count": 124,
   "id": "f8b663ec350f3a2c",
   "metadata": {
    "ExecuteTime": {
     "end_time": "2024-01-08T01:35:28.166597Z",
     "start_time": "2024-01-08T01:35:28.143486Z"
    },
    "collapsed": false
   },
   "outputs": [
    {
     "name": "stdout",
     "output_type": "stream",
     "text": [
      "7\n",
      "Today : 2034/11/18\n",
      "Today : 2024/11/18\n",
      "현제 2024 1 8\n"
     ]
    }
   ],
   "source": [
    "def addTwo(a,b):\n",
    "    print(a + b)\n",
    "\n",
    "def currrentDate(year,month,day):\n",
    "    year += 10\n",
    "    month += 10\n",
    "    day += 10\n",
    "    print(f\"Today : {year}/{month:0>2d}/{day:0>2d}\")\n",
    "\n",
    "def currrentDatenoYear(month,day):\n",
    "    month += 10\n",
    "    day += 10\n",
    "    print(f\"Today : {year}/{month:0>2d}/{day:0>2d}\")\n",
    "\n",
    "\n",
    "\n",
    "# 전역 변수\n",
    "year = 2024\n",
    "month = 1\n",
    "day = 8\n",
    "\n",
    "# 함수 호출\n",
    "addTwo(2, 5)\n",
    "currrentDate(year, month, day)\n",
    "\n",
    "# 만약 함수 내부의 변수가 매배변수를 참조할 수 없는 경우에는\n",
    "# 전역 변수를 참조하는 구조를 가지고 있음\n",
    "currrentDatenoYear(month, day)\n",
    "\n",
    "# 현재 변수 출력\n",
    "print(\"현제\", year, month, day)\n"
   ]
  },
  {
   "cell_type": "markdown",
   "id": "1cb9bab152856de8",
   "metadata": {
    "collapsed": false
   },
   "source": [
    "## 전역변수(Global Variable)와 지역변수(local Variable)\n",
    "1. 전역 변수\n",
    "- 파이썬 파일에 존재하는 변수\n",
    "- 파일 내부 모든 곳에서 사용가능한 변수\n",
    "- 파일 실행이 종료되기 전 까지 유지\n",
    "2. 지역 변수\n",
    "- 함수에 존재하는 변수\n",
    "- 함수에서만 사용 가능한 변수\n",
    "- 함수가 종료되면 변수들은 메모리에서 사라짐"
   ]
  },
  {
   "cell_type": "code",
   "execution_count": 130,
   "id": "ac6e5c415fc9fedc",
   "metadata": {
    "ExecuteTime": {
     "end_time": "2024-01-08T01:50:33.237263100Z",
     "start_time": "2024-01-08T01:50:33.219275500Z"
    },
    "collapsed": false
   },
   "outputs": [
    {
     "name": "stdout",
     "output_type": "stream",
     "text": [
      "Today : 2024/01/08\n",
      "Today : 2024/01/08\n",
      "Today : 2024/01/08/금요일\n",
      "year : 2024, month : 1, day : 8\n"
     ]
    }
   ],
   "source": [
    "def currentDate(year, month, day):\n",
    "    # year month day => 지역 변수\n",
    "    print(f\"Today : {year}/{month:0>2}/{day:0>2}\")\n",
    "\n",
    "def currentDate2(month, day):\n",
    "    # month, day => 지역 변수\n",
    "    # year => 전역 변수\n",
    "    print(f\"Today : {year}/{month:0>2}/{day:0>2}\")\n",
    "\n",
    "def currentDate3(month, day, week):\n",
    "    # month, day => 지역 변수\n",
    "    # year => 전역 변수\n",
    "    print(f\"Today : {year}/{month:0>2}/{day:0>2}/{week}요일\")\n",
    "\n",
    "# 전역 변수\n",
    "year, month, day = 2024, 1, 8\n",
    "\n",
    "currentDate(year,month,day)\n",
    "currentDate2(month,day)\n",
    "currentDate3(month, day, '금')\n",
    "\n",
    "# 변수값 확인 출력\n",
    "print(\"year : %s, month : %s, day : %s\"%(year,month,day))\n",
    "# week는 지역변수이므로 함수 외부에서 접근할 수 없다.\n",
    "# print(\"week : %s\"%week)\n",
    "# NameError: name 'week' is not defined\n",
    "\n",
    "\n"
   ]
  },
  {
   "cell_type": "markdown",
   "id": "60f3808dbdbfeda4",
   "metadata": {
    "collapsed": false
   },
   "source": [
    "## 전역 변수를 함수 내에서 바꾸기\n",
    "\n",
    "- 전역 변수를 함수에서 조회만 할 경우 별도의 코드가 필요없음 \n",
    "- 함수 내에서 전역 변수 값 변경하고자 하는 경우는 추가 코드 필요\n",
    "- 추가 코드 : global 전역 변수명\n",
    "- 주의 : 전역변수값이 언제 든지 함수로 변경이 될 수 있는 상황이므로 사용시 주의\n"
   ]
  },
  {
   "cell_type": "code",
   "execution_count": 134,
   "id": "c929d69f345e4abb",
   "metadata": {
    "ExecuteTime": {
     "end_time": "2024-01-08T02:00:46.056256200Z",
     "start_time": "2024-01-08T02:00:46.044481100Z"
    },
    "collapsed": false
   },
   "outputs": [
    {
     "name": "stdout",
     "output_type": "stream",
     "text": [
      "Today : 2024/01/08\n",
      "Today : 2034/01/08\n",
      "Today : 2034/01/08/금요일\n",
      "year : 2034, month : 1, day : 8\n"
     ]
    }
   ],
   "source": [
    "def currentDate(year, month, day):\n",
    "    # year month day => 지역 변수\n",
    "    print(f\"Today : {year}/{month:0>2}/{day:0>2}\")\n",
    "\n",
    "\n",
    "def currentDate2(month, day):\n",
    "    # month, day => 지역 변수\n",
    "    # year => 전역 변수\n",
    "    # 함수 내에서 전역변수 값을 변경하고자 하는 경우는 global 전역변수명 \n",
    "    global year\n",
    "    # 전역 변수를 불러온 이후에 값을 변경하는 행위는 성공적으로 진행 가능함\n",
    "    year += 10\n",
    "    print(f\"Today : {year}/{month:0>2}/{day:0>2}\")\n",
    "\n",
    "\n",
    "def currentDate3(month, day, week):\n",
    "    # month, day => 지역 변수\n",
    "    # year => 전역 변수\n",
    "    print(f\"Today : {year}/{month:0>2}/{day:0>2}/{week}요일\")\n",
    "\n",
    "\n",
    "# 전역 변수\n",
    "year, month, day = 2024, 1, 8\n",
    "\n",
    "currentDate(year, month, day)\n",
    "currentDate2(month, day)\n",
    "currentDate3(month, day, '금')\n",
    "\n",
    "# 변수값 확인 출력\n",
    "print(\"year : %s, month : %s, day : %s\" % (year, month, day))\n",
    "# week는 지역변수이므로 함수 외부에서 접근할 수 없다.\n",
    "# print(\"week : %s\"%week)\n",
    "# NameError: name 'week' is not defined\n",
    "\n",
    "\n"
   ]
  },
  {
   "cell_type": "markdown",
   "id": "145524a404f04c58",
   "metadata": {
    "collapsed": false
   },
   "source": [
    "## 리스트 튜플 등 포인터가 전달되는 경우 전역변수와 지역변수 관계\n",
    "\n",
    "- 리스트나 튜플의 경우 주소가 전될되는 구조\n",
    "- 따라서 함수 내부에서 데이터 수정 시 함수 밖에서도 변경 값 조회가능\n",
    "- 함수 작성시 해당 내용을 유의하여 작성하여야 함\n"
   ]
  },
  {
   "cell_type": "code",
   "execution_count": 138,
   "id": "1c1951c87acc39bb",
   "metadata": {
    "ExecuteTime": {
     "end_time": "2024-01-08T02:18:25.530171300Z",
     "start_time": "2024-01-08T02:18:25.516463200Z"
    },
    "collapsed": false
   },
   "outputs": [
    {
     "name": "stdout",
     "output_type": "stream",
     "text": [
      "before : [2024, 1, 8], 월요일\n",
      "Today : 2024/01/08/월요일\n",
      "after  : [2032, 1, 8], 월요일\n"
     ]
    }
   ],
   "source": [
    "def currentDate(todays:list, week:str):\n",
    "    # todays => 년, 월, 일을 담고 있는 데이터 타입, 리스트\n",
    "    print(\"Today : {0[0]}/{0[1]:0>2}/{0[2]:0>2}/{1}\".format(todays, week))\n",
    "    todays[0] = 2032\n",
    "    week = '화요일'\n",
    "\n",
    "\n",
    "\n",
    "# 전역 변수\n",
    "todays = [2024, 1, 8]\n",
    "week = '월요일'\n",
    "\n",
    "\n",
    "print(f\"before : {todays}, {week}\")\n",
    "currentDate(todays, week)\n",
    "print(f\"after  : {todays}, {week}\")\n",
    "\n"
   ]
  },
  {
   "cell_type": "markdown",
   "id": "3ed8c30f",
   "metadata": {},
   "source": [
    "## 참조형 변수 >> 데이터의 주소 저장\n",
    "저장된 데이터와 변수의 타입 관계"
   ]
  },
  {
   "cell_type": "code",
   "execution_count": 16,
   "id": "2c295858f9fdb178",
   "metadata": {
    "collapsed": false
   },
   "outputs": [
    {
     "name": "stdout",
     "output_type": "stream",
     "text": [
      "num => 1980301929104, <class 'int'>\n",
      "num => 1980383038320, <class 'float'>\n",
      "num => 1980406917552, <class 'str'>\n",
      "num => 1980383376576, <class 'list'>\n",
      "num => 1980301928752, <class 'int'>\n",
      "num => 1980301928784, <class 'int'>\n",
      "=============값변경==============\n",
      "num ==> Happy : 1980407194288, <class 'str'>\n",
      "num2 => 1980383376576, <class 'list'>\n",
      "num2 => 1980301928752, <class 'int'>\n",
      "num3 => 1980383376576, <class 'list'>\n"
     ]
    }
   ],
   "source": [
    "num = 12\n",
    "print(f\"num => {id(num)}, {type(num)}\")\n",
    "\n",
    "num = 12.\n",
    "print(f\"num => {id(num)}, {type(num)}\")\n",
    "\n",
    "num = 'Good'\n",
    "print(f\"num => {id(num)}, {type(num)}\")\n",
    "\n",
    "\n",
    "num2 = [1,2,3.1]\n",
    "print(f\"num => {id(num2)}, {type(num2)}\")\n",
    "print(f\"num => {id(num2[0])}, {type(num2[0])}\")\n",
    "print(f\"num => {id(num2[1])}, {type(num2[1])}\")\n",
    "\n",
    "print(\"=============값변경==============\")\n",
    "num = \"Happy\"\n",
    "num2[0] = 1\n",
    "print(f\"num ==> {num} : {id(num)}, {type(num)}\")\n",
    "print(f\"num2 => {id(num2)}, {type(num2)}\")\n",
    "print(f\"num2 => {id(num2[0])}, {type(num2[0])}\")\n",
    "\n",
    "# 해당 식은 리스트의 주소만 전달해주는 참조형 변수이다.\n",
    "num3 = num2\n",
    "print(f\"num3 => {id(num3)}, {type(num3)}\")\n"
   ]
  },
  {
   "cell_type": "markdown",
   "id": "517c5016",
   "metadata": {},
   "source": [
    "### 주의! \n",
    "꼭 전역 변수가 아니더라도 list, tulple, set, dict의 경우<br>함수의 매개변수로 전달 후 원소값 변경시 모두 적용됨!\n",
    "<br>==> 해결 => 깊은 복수 deepcopy 로 복사본 전달 필요!"
   ]
  },
  {
   "cell_type": "code",
   "execution_count": 21,
   "id": "cc9c6ded",
   "metadata": {},
   "outputs": [
    {
     "name": "stdout",
     "output_type": "stream",
     "text": [
      "7\n",
      "[11, 22, 1004]Good\n",
      "value : Good, dataList : [11, 22, 1004], num : 7\n"
     ]
    }
   ],
   "source": [
    "def one(number):\n",
    "    print(number)\n",
    "\n",
    "def datas(nums, value):\n",
    "    nums[-1] = 1004\n",
    "    print(nums, value, sep=\"\")\n",
    "\n",
    "# 전역변수 선언\n",
    "value = 'Good'\n",
    "dataList = [11,22,33]\n",
    "num = 7\n",
    "\n",
    "# 함수 호출\n",
    "one(num)\n",
    "\n",
    "datas(dataList, value=value)\n",
    "\n",
    "print(f\"value : {value}, dataList : {dataList}, num : {num}\")\n",
    "\n",
    "\n",
    "\n",
    "    "
   ]
  },
  {
   "cell_type": "markdown",
   "id": "c5bbea78",
   "metadata": {},
   "source": [
    "## 함수 속 함수 연습해보기"
   ]
  },
  {
   "cell_type": "code",
   "execution_count": 29,
   "id": "7817e5c0",
   "metadata": {},
   "outputs": [
    {
     "name": "stdout",
     "output_type": "stream",
     "text": [
      "hello~!!!!\n",
      "10\n"
     ]
    }
   ],
   "source": [
    "# 함수 안에 함수 정의 및 호출\n",
    "\n",
    "def print_hello():\n",
    "    hello = 'hello~!'\n",
    "    \n",
    "    def print_message():\n",
    "        msg = hello + \"!!!\"\n",
    "        print(msg)\n",
    "    \n",
    "    print_message()\n",
    "\n",
    "print_hello()\n",
    "\n",
    "def a():\n",
    "    x = 10\n",
    "    \n",
    "    def b():\n",
    "        nonlocal x  # 가장 가까운 밖 함수의 지역변수 x를 찾아감 \n",
    "        x = 20\n",
    "    \n",
    "    b()\n",
    "    print(x)\n",
    "a()\n",
    "\n"
   ]
  },
  {
   "cell_type": "code",
   "execution_count": 30,
   "id": "dba10823",
   "metadata": {},
   "outputs": [
    {
     "data": {
      "text/plain": [
       "10"
      ]
     },
     "execution_count": 30,
     "metadata": {},
     "output_type": "execute_result"
    }
   ],
   "source": [
    "def foo():\n",
    "    x = 10\n",
    "    def test():\n",
    "        return x\n",
    "    return test\n",
    "\n",
    "x = foo()\n",
    "x()"
   ]
  },
  {
   "cell_type": "markdown",
   "id": "52befb5c",
   "metadata": {},
   "source": [
    "## lambda 표현식 또는 익명 함수\n",
    "- 짧은 코드의 함수 또는 반복해서 재사용이 많지 않은 코드의 경우 사용\n",
    "- 문법) lambda 매개변수1, 매개변수2, : 표현식 \n",
    "- 결과 : 매개변수를 활용한 표현식 결과 값이 lambda 그 위치에 반환됨\n"
   ]
  },
  {
   "cell_type": "code",
   "execution_count": 36,
   "id": "6dd8ef47",
   "metadata": {},
   "outputs": [
    {
     "name": "stdout",
     "output_type": "stream",
     "text": [
      "3\n",
      "-1\n",
      "lambda 사용한 결과 :  3 -1\n"
     ]
    }
   ],
   "source": [
    "def addnolambda (a, b):\n",
    "    return a + b\n",
    "\n",
    "def minus (a, b):\n",
    "    return a - b\n",
    "\n",
    "print((lambda a, b : a + b)(1,2))\n",
    "print((lambda a, b : a - b)(1,2))\n",
    "\n",
    "addlambda = lambda a, b : a + b\n",
    "difflambda = lambda a, b : a - b\n",
    "\n",
    "print(\"lambda 사용한 결과 : \", addlambda(1,2), difflambda(1,2))\n"
   ]
  },
  {
   "cell_type": "markdown",
   "id": "7f9b5bd2",
   "metadata": {},
   "source": [
    "### lambda 식과 map 함수를 활용한 방법\n"
   ]
  },
  {
   "cell_type": "code",
   "execution_count": 45,
   "id": "5fedea0d",
   "metadata": {},
   "outputs": [
    {
     "name": "stdout",
     "output_type": "stream",
     "text": [
      "[1.0, 4.0, 9.0, 16.0, 25.0, 36.0, 49.0, 64.0, 81.0, 100.0]\n",
      "[100, 200, 300, 400, 500, 600, 700, 800, 900, 1000]\n"
     ]
    }
   ],
   "source": [
    "# 리스트 안에 모든 원소를 더한 합 출력\n",
    "datas = [str(x) for x in range(1,11)]\n",
    "datas_int = list(map(lambda x: float(x)**2, datas))\n",
    "print(datas_int)\n",
    "\n",
    "\n",
    "\n",
    "# => 원소에 * 100 한 값을 리스트에 저장하기\n",
    "datas100 = list(map(lambda x : int(x)*100, datas))\n",
    "print(datas100)\n",
    "\n"
   ]
  },
  {
   "cell_type": "markdown",
   "id": "dba14a3b",
   "metadata": {},
   "source": [
    "### 람다식에 매개변수가 없는 경우"
   ]
  },
  {
   "cell_type": "code",
   "execution_count": 46,
   "id": "7fc0848f",
   "metadata": {},
   "outputs": [
    {
     "name": "stdout",
     "output_type": "stream",
     "text": [
      "반값습니다.\n"
     ]
    }
   ],
   "source": [
    "def greeting():\n",
    "    print(\"반갑습니다.!\")\n",
    "\n",
    "print((lambda : \"반값습니다.\")())\n",
    "    "
   ]
  },
  {
   "cell_type": "markdown",
   "id": "7f2bcb32",
   "metadata": {},
   "source": [
    "### filter 내장 함수를 활용한 방법\n",
    "- 사용법 filter(함수명, 반복가능객체)\n",
    "- 조건에 맞는 데이터만 반환\n"
   ]
  },
  {
   "cell_type": "code",
   "execution_count": 52,
   "id": "c606ddb4",
   "metadata": {},
   "outputs": [],
   "source": [
    "# ex) 5초과 10 미만 데이터만 추출\n",
    "a = [8,3,2,10,15,7,1,9,0,11]\n",
    "\n",
    "a_filter = list(filter(lambda x: 5 < x < 10, a))\n",
    "\n",
    "def check(data):\n",
    "    return data > 5 and data < 10\n",
    "\n",
    "a_filter_check = list(filter(check, a))\n",
    "\n",
    "\n"
   ]
  },
  {
   "cell_type": "markdown",
   "id": "77daed04",
   "metadata": {},
   "source": [
    "### reduce 함수 활용해보기"
   ]
  },
  {
   "cell_type": "code",
   "execution_count": 61,
   "id": "b18d064c",
   "metadata": {},
   "outputs": [
    {
     "name": "stdout",
     "output_type": "stream",
     "text": [
      "lambda 55\n",
      "no lambda 55\n"
     ]
    }
   ],
   "source": [
    "# import random 해당 구문은 random의 전체 메서드 등을 가져옴\n",
    "from random import randint, random\n",
    "from functools import reduce\n",
    "# 해당 구문은 random 모듈 중 randint, random 함수만 가져오기\n",
    "\n",
    "result = reduce(lambda x, y : x+y, range(1,11))\n",
    "print('lambda' ,result)\n",
    "\n",
    "def f(x,y):\n",
    "    return x+y\n",
    "result_nolambda = reduce(f, range(1,11)) \n",
    "print(\"no lambda\",result_nolambda)"
   ]
  },
  {
   "cell_type": "markdown",
   "id": "0fd47cfc",
   "metadata": {},
   "source": [
    "## 계산기 만들어보기\n",
    "계산기 기능\n",
    "- 입력\n",
    "- 덧셈\n",
    "- 뺄셈\n",
    "- 곱셈\n",
    "- 나눗셈\n",
    "- 종료\n",
    "\n",
    "무한반복문으로 매뉴 출력\n",
    "<br>종료전까지 출력\n",
    "\n",
    "사용자 정의 함수\n",
    "<br> 함수 기능 : 연산결과 리스트에서 검색어에 해당하는 데이터만 출력\n",
    "<br> 함수 이름 : searchResult\n",
    "<br> 매개 변수 : search \n",
    "<br> 함수 결과 : none\n",
    "\n"
   ]
  },
  {
   "cell_type": "code",
   "execution_count": 79,
   "id": "83b92708",
   "metadata": {},
   "outputs": [
    {
     "name": "stdout",
     "output_type": "stream",
     "text": [
      "---------\n",
      "1. 입력하기\n",
      "2. 덧셈\n",
      "3. 뺌샘\n",
      "4. 곱셈\n",
      "5. 나눗셈\n",
      "6. 전체결과 출력후 삭제\n",
      "7. 검색\n",
      "8. 종료\n",
      "---------\n"
     ]
    },
    {
     "ename": "ValueError",
     "evalue": "not enough values to unpack (expected 2, got 1)",
     "output_type": "error",
     "traceback": [
      "\u001b[1;31m---------------------------------------------------------------------------\u001b[0m",
      "\u001b[1;31mValueError\u001b[0m                                Traceback (most recent call last)",
      "Cell \u001b[1;32mIn[79], line 39\u001b[0m\n\u001b[0;32m     37\u001b[0m \u001b[38;5;28;01mif\u001b[39;00m choice \u001b[38;5;241m==\u001b[39m \u001b[38;5;241m1\u001b[39m:\n\u001b[0;32m     38\u001b[0m     user \u001b[38;5;241m=\u001b[39m \u001b[38;5;28minput\u001b[39m(\u001b[38;5;124m\"\u001b[39m\u001b[38;5;124m두 수를 입력하세요 eg) 10 20\u001b[39m\u001b[38;5;124m\"\u001b[39m)\u001b[38;5;241m.\u001b[39msplit()\n\u001b[1;32m---> 39\u001b[0m     n1, n2 \u001b[38;5;241m=\u001b[39m \u001b[38;5;28mlist\u001b[39m(\u001b[38;5;28mmap\u001b[39m(\u001b[38;5;28mfloat\u001b[39m, user))\n\u001b[0;32m     40\u001b[0m     \u001b[38;5;28mprint\u001b[39m(\u001b[38;5;124m\"\u001b[39m\u001b[38;5;124m입력을 성공적으로 받았습니다.\u001b[39m\u001b[38;5;124m\"\u001b[39m)\n\u001b[0;32m     41\u001b[0m \u001b[38;5;28;01melif\u001b[39;00m choice \u001b[38;5;241m==\u001b[39m \u001b[38;5;241m2\u001b[39m:\n",
      "\u001b[1;31mValueError\u001b[0m: not enough values to unpack (expected 2, got 1)"
     ]
    }
   ],
   "source": [
    "def menu_printer():\n",
    "    print(\"---------\")\n",
    "    print(\"1. 입력하기\")\n",
    "    print(\"2. 덧셈\")\n",
    "    print(\"3. 뺌샘\")\n",
    "    print(\"4. 곱셈\")\n",
    "    print(\"5. 나눗셈\")\n",
    "    print(\"6. 전체결과 출력후 삭제\")\n",
    "    print(\"7. 검색\")\n",
    "    print(\"8. 종료\")\n",
    "    print(\"---------\")\n",
    "\n",
    "# def determine_func(choice:int, n1:float = None, n2:float = None):\n",
    "    \n",
    "def searchResult(calcList:list):\n",
    "    op = input(\"찾고자 하는 연산자를 입력하세요\")\n",
    "    found = 0\n",
    "    if op not in ['-', '+', '/', 'x']:\n",
    "        print(\"연산자를 잘못 입력하였습니다.\")\n",
    "    else:\n",
    "        for result in calcList:\n",
    "            if 0 < result.find(op, 1) < result.find(str(n2)) :\n",
    "                print(result)\n",
    "                found += 1\n",
    "        if not found:\n",
    "            print(\"연산자는 올바르나 검색결과가 없습니다.\")\n",
    "    print(f\"{found}개가 검색되었습니다.\")\n",
    "\n",
    "breaker = 1\n",
    "n1, n2 = 0., 0.\n",
    "calcList = []\n",
    "while breaker:\n",
    "    menu_printer()\n",
    "    choice = input(\"메뉴 선택 : \")\n",
    "    if choice.isdecimal():\n",
    "        choice = int(choice)\n",
    "        if choice == 1:\n",
    "            user = input(\"두 수를 입력하세요 eg) 10 20\").split()\n",
    "            n1, n2 = list(map(float, user))\n",
    "            print(\"입력을 성공적으로 받았습니다.\")\n",
    "        elif choice == 2:\n",
    "            calcList.append(f\"{n1} + {n2} = {n1+n2}\")\n",
    "            print(calcList[-1] + \"\\n\")\n",
    "            pass\n",
    "        elif choice == 3:\n",
    "            calcList.append(f\"{n1} - {n2} = {n1-n2}\")\n",
    "            print(calcList[-1] + \"\\n\")\n",
    "            pass\n",
    "        elif choice == 4:\n",
    "            calcList.append(f\"{n1} x {n2} = {n1*n2}\")\n",
    "            print(calcList[-1] + \"\\n\")\n",
    "            pass\n",
    "        elif choice == 5:\n",
    "            calcList.append(f\"{n1} / {n2} = {n1/n2}\" if n2 != 0 else f\"0으로는 나눌 수 없습니다.\")\n",
    "            print(calcList[-1] + \"\\n\")\n",
    "        elif choice == 6:\n",
    "            print(f\"전체 결과 출력 후 삭제\")\n",
    "            print(\"\\n\".join(calcList) )\n",
    "            calcList.clear()\n",
    "        elif choice == 7:\n",
    "            searchResult(calcList=calcList)\n",
    "        elif choice == 8:\n",
    "            print(\"프로그램이 종료됩니다.\")\n",
    "            breaker = 0\n",
    "    else:\n",
    "        print(\"올바른 메뉴를 고르지 않았습니다.\")\n",
    "        \n",
    "        "
   ]
  },
  {
   "cell_type": "code",
   "execution_count": null,
   "id": "a94a3779",
   "metadata": {},
   "outputs": [],
   "source": []
  }
 ],
 "metadata": {
  "kernelspec": {
   "display_name": "Python 3",
   "language": "python",
   "name": "python3"
  },
  "language_info": {
   "codemirror_mode": {
    "name": "ipython",
    "version": 3
   },
   "file_extension": ".py",
   "mimetype": "text/x-python",
   "name": "python",
   "nbconvert_exporter": "python",
   "pygments_lexer": "ipython3",
   "version": "3.9.18"
  }
 },
 "nbformat": 4,
 "nbformat_minor": 5
}
